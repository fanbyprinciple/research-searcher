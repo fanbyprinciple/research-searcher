{
  "nbformat": 4,
  "nbformat_minor": 0,
  "metadata": {
    "colab": {
      "provenance": []
    },
    "kernelspec": {
      "name": "python3",
      "display_name": "Python 3"
    },
    "language_info": {
      "name": "python"
    }
  },
  "cells": [
    {
      "cell_type": "code",
      "execution_count": null,
      "metadata": {
        "id": "78ACUX9EMrXC"
      },
      "outputs": [],
      "source": [
        "%%capture\n",
        "!git clone https://github.com/monk1337/resp.git\n",
        "!pip3 install -r ./resp/requirements.txt"
      ]
    },
    {
      "cell_type": "code",
      "source": [
        "%cd /content/resp/\n",
        "from resp.apis.serp_api import Serp\n",
        "from resp.apis.cnnp import connected_papers\n",
        "from resp.apis.semantic_s import Semantic_Scholar\n",
        "from resp.apis.acm_api import ACM\n",
        "from resp.apis.arxiv_api import Arxiv\n",
        "from resp.resp import Resp"
      ],
      "metadata": {
        "colab": {
          "base_uri": "https://localhost:8080/"
        },
        "id": "qtgaBfoWNCTL",
        "outputId": "f448bb0e-0e50-420a-ef0d-217cfab71514"
      },
      "execution_count": null,
      "outputs": [
        {
          "output_type": "stream",
          "name": "stdout",
          "text": [
            "/content/resp\n"
          ]
        }
      ]
    },
    {
      "cell_type": "code",
      "source": [
        "Paper_names = ['Zero-shot learning with common sense knowledge graphs']\n",
        "keyword     = ['Zero-shot learning']"
      ],
      "metadata": {
        "id": "JVKqDMTENr0Z"
      },
      "execution_count": null,
      "outputs": []
    },
    {
      "cell_type": "code",
      "source": [
        "ap           = Arxiv()\n",
        "arxiv_result = ap.arxiv('Zero-shot learning', max_pages = 20)"
      ],
      "metadata": {
        "colab": {
          "base_uri": "https://localhost:8080/"
        },
        "id": "VYiE8QuOOplq",
        "outputId": "3aa1b8e3-553d-456f-b93b-fd6c6647b15c"
      },
      "execution_count": null,
      "outputs": [
        {
          "output_type": "stream",
          "name": "stderr",
          "text": [
            "100%|██████████| 1/1 [00:06<00:00,  6.05s/it]\n"
          ]
        }
      ]
    },
    {
      "cell_type": "code",
      "source": [
        "arxiv_result\n",
        "arxiv_result.to_csv()"
      ],
      "metadata": {
        "colab": {
          "base_uri": "https://localhost:8080/",
          "height": 157
        },
        "id": "tzjlJfzsOw97",
        "outputId": "cd3d9153-6f35-42d5-e164-565eccf194eb"
      },
      "execution_count": 14,
      "outputs": [
        {
          "output_type": "execute_result",
          "data": {
            "text/plain": [
              "',title,link\\n0,Data-oriented Dynamic Fine-tuning Parameter Selection Strategy for FISH Mask based Efficient Fine-tuning,https://arxiv.org/abs/2403.08484\\n1,Behavioral transition of a fish school in a crowded environment,https://arxiv.org/abs/2402.03123\\n2,Framework for Variable-lag Motif Following Relation Inference In Time Series using Matrix Profile analysis,https://arxiv.org/abs/2401.02860\\n3,\"Investigating the classical problem of pursuit, in two modes\",https://arxiv.org/abs/2309.02471\\n4,Quantifying the biomimicry gap in biohybrid robot-fish pairs,https://arxiv.org/abs/2308.08978\\n5,SAR Ship Target Recognition via Selective Feature Discrimination and Multifeature Center Classifier,https://arxiv.org/abs/2308.10250\\n6,Vortex phase matching of a self-propelled model of fish with autonomous fin motion,https://arxiv.org/abs/2304.02935\\n7,Predicting the long-term collective behaviour of fish pairs with deep learning,https://arxiv.org/abs/2302.06839\\n8,CREPES: Cooperative RElative Pose Estimation System,https://arxiv.org/abs/2302.01036\\n9,A contrastive learning approach for individual re-identification in a wild fish population,https://arxiv.org/abs/2301.00596\\n10,A hybrid motion estimation technique for fisheye video sequences based on equisolid re-projection,https://arxiv.org/abs/2211.16995\\n11,ViSE: Vision-Based 3D Online Shape Estimation of Continuously Deformable Robots,https://arxiv.org/abs/2211.05222\\n12,Detection of Anticipatory Dynamics Between a Pair of Zebrafish,https://arxiv.org/abs/2112.10994\\n13,More than just Frequency? Demasking Unsupervised Hypernymy Prediction Methods,https://arxiv.org/abs/2106.00055\\n14,\"Liquid films falling down a vertical fiber: modeling, simulations and experiments\",https://arxiv.org/abs/2104.05761\\n15,Fish Growth Trajectory Tracking via Reinforcement Learning in Precision Aquaculture,https://arxiv.org/abs/2103.07251\\n16,Lower bounds on the Erdős-Gyárfás problem via color energy graphs,https://arxiv.org/abs/2102.11466\\n17,Two-dimensionally stable self-organization arises in simple schooling swimmers through hydrodynamic interactions,https://arxiv.org/abs/2102.03571\\n18,Modes of Information Flow in Collective Cohesion,https://arxiv.org/abs/2012.00293\\n19,\"School cohesion, speed, and efficiency are modulated by the swimmers flapping motion\",https://arxiv.org/abs/2009.12715\\n20,Identifying partners at sea on contrasting fisheries around the world,https://arxiv.org/abs/2009.02601\\n21,Persistent meanders and eddies lead to a quasi-steady Lagrangian transport pattern in a weak western boundary current,https://arxiv.org/abs/2008.07620\\n22,Calculating Pose with Vanishing Points of Visual-Sphere Perspective Model,https://arxiv.org/abs/2004.08933\\n23,UWGAN: Underwater GAN for Real-world Underwater Color Restoration and Dehazing,https://arxiv.org/abs/1912.10269\\n24,Orienting Ordered Scaffolds: Complexity and Algorithms,https://arxiv.org/abs/1911.11190\\n25,Automatic Weight Estimation of Harvested Fish from Images,https://arxiv.org/abs/1909.02710\\n26,Conformational Heterogeneity in Human Interphase Chromosome Organization Reconciles the FISH and Hi-C Paradox,https://arxiv.org/abs/1904.09485\\n27,CNN based dense underwater 3D scene reconstruction by transfer learning using bubble database,https://arxiv.org/abs/1811.09675\\n28,Multi-scale CNN stereo and pattern removal technique for underwater active stereo system,https://arxiv.org/abs/1808.08348\\n29,Quantum Optics in Maxwell\\'s Fish Eye Lens with Single Atoms and Photons,https://arxiv.org/abs/1805.11739\\n30,A mathematical model for gene evolution after whole genome duplication,https://arxiv.org/abs/1702.06255\\n31,A draft genome assembly of southern bluefin tuna Thunnus maccoyii,https://arxiv.org/abs/1607.03955\\n32,Optimal undulating swimming for a single fish-like body and for a pair of interacting swimmers,https://arxiv.org/abs/1604.01065\\n33,Generalized Statistical Tests for mRNA and Protein Subcellular Spatial Patterning against Complete Spatial Randomness,https://arxiv.org/abs/1602.06429\\n34,Identifying differences in the rules of interaction between individuals in moving animal groups,https://arxiv.org/abs/1601.08202\\n35,Dipole interactions in doubly-periodic domains,https://arxiv.org/abs/1304.6795\\n36,The parameters of Menzerath-Altmann law in genomes,https://arxiv.org/abs/1201.1746\\n37,Mechanism of magnetic field effect in cryptochrome,https://arxiv.org/abs/1102.5359\\n38,The Gould-Hopper Polynomials in the Novikov-Veselov equation,https://arxiv.org/abs/1011.1614\\n39,Nonautonomous Food-Limited Fishery Model With Adaptive Harvesting,https://arxiv.org/abs/1006.5431\\n40,Hydrodynamics of undulatory fish schooling in lateral configurations,https://arxiv.org/abs/1003.4441\\n41,On the fish-like swimming of linked bodies with and without skin,https://arxiv.org/abs/0912.4577\\n42,Computer Simulations to Study Sympatric Speciation Processes,https://arxiv.org/abs/q-bio/0504006\\n43,lambda Phi^4 Theory From a Particle-Gas Viewpoint,https://arxiv.org/abs/hep-ph/9711449\\n44,Behavioral transition of a fish school in a crowded environment,https://arxiv.org/abs/2402.03123\\n45,Framework for Variable-lag Motif Following Relation Inference In Time Series using Matrix Profile analysis,https://arxiv.org/abs/2401.02860\\n46,\"Investigating the classical problem of pursuit, in two modes\",https://arxiv.org/abs/2309.02471\\n47,Quantifying the biomimicry gap in biohybrid robot-fish pairs,https://arxiv.org/abs/2308.08978\\n48,SAR Ship Target Recognition via Selective Feature Discrimination and Multifeature Center Classifier,https://arxiv.org/abs/2308.10250\\n49,Vortex phase matching of a self-propelled model of fish with autonomous fin motion,https://arxiv.org/abs/2304.02935\\n50,Predicting the long-term collective behaviour of fish pairs with deep learning,https://arxiv.org/abs/2302.06839\\n51,CREPES: Cooperative RElative Pose Estimation System,https://arxiv.org/abs/2302.01036\\n52,A contrastive learning approach for individual re-identification in a wild fish population,https://arxiv.org/abs/2301.00596\\n53,A hybrid motion estimation technique for fisheye video sequences based on equisolid re-projection,https://arxiv.org/abs/2211.16995\\n54,ViSE: Vision-Based 3D Online Shape Estimation of Continuously Deformable Robots,https://arxiv.org/abs/2211.05222\\n55,Detection of Anticipatory Dynamics Between a Pair of Zebrafish,https://arxiv.org/abs/2112.10994\\n56,More than just Frequency? Demasking Unsupervised Hypernymy Prediction Methods,https://arxiv.org/abs/2106.00055\\n57,\"Liquid films falling down a vertical fiber: modeling, simulations and experiments\",https://arxiv.org/abs/2104.05761\\n58,Fish Growth Trajectory Tracking via Reinforcement Learning in Precision Aquaculture,https://arxiv.org/abs/2103.07251\\n59,Lower bounds on the Erdős-Gyárfás problem via color energy graphs,https://arxiv.org/abs/2102.11466\\n60,Two-dimensionally stable self-organization arises in simple schooling swimmers through hydrodynamic interactions,https://arxiv.org/abs/2102.03571\\n61,Modes of Information Flow in Collective Cohesion,https://arxiv.org/abs/2012.00293\\n62,Identifying partners at sea on contrasting fisheries around the world,https://arxiv.org/abs/2009.02601\\n63,\"School cohesion, speed, and efficiency are modulated by the swimmers flapping motion\",https://arxiv.org/abs/2009.12715\\n64,Persistent meanders and eddies lead to a quasi-steady Lagrangian transport pattern in a weak western boundary current,https://arxiv.org/abs/2008.07620\\n65,Calculating Pose with Vanishing Points of Visual-Sphere Perspective Model,https://arxiv.org/abs/2004.08933\\n66,UWGAN: Underwater GAN for Real-world Underwater Color Restoration and Dehazing,https://arxiv.org/abs/1912.10269\\n67,Orienting Ordered Scaffolds: Complexity and Algorithms,https://arxiv.org/abs/1911.11190\\n68,Automatic Weight Estimation of Harvested Fish from Images,https://arxiv.org/abs/1909.02710\\n69,Conformational Heterogeneity in Human Interphase Chromosome Organization Reconciles the FISH and Hi-C Paradox,https://arxiv.org/abs/1904.09485\\n70,CNN based dense underwater 3D scene reconstruction by transfer learning using bubble database,https://arxiv.org/abs/1811.09675\\n71,Multi-scale CNN stereo and pattern removal technique for underwater active stereo system,https://arxiv.org/abs/1808.08348\\n72,Quantum Optics in Maxwell\\'s Fish Eye Lens with Single Atoms and Photons,https://arxiv.org/abs/1805.11739\\n73,A mathematical model for gene evolution after whole genome duplication,https://arxiv.org/abs/1702.06255\\n74,A draft genome assembly of southern bluefin tuna Thunnus maccoyii,https://arxiv.org/abs/1607.03955\\n75,Optimal undulating swimming for a single fish-like body and for a pair of interacting swimmers,https://arxiv.org/abs/1604.01065\\n76,Generalized Statistical Tests for mRNA and Protein Subcellular Spatial Patterning against Complete Spatial Randomness,https://arxiv.org/abs/1602.06429\\n77,Identifying differences in the rules of interaction between individuals in moving animal groups,https://arxiv.org/abs/1601.08202\\n78,Dipole interactions in doubly-periodic domains,https://arxiv.org/abs/1304.6795\\n79,The parameters of Menzerath-Altmann law in genomes,https://arxiv.org/abs/1201.1746\\n80,Mechanism of magnetic field effect in cryptochrome,https://arxiv.org/abs/1102.5359\\n81,The Gould-Hopper Polynomials in the Novikov-Veselov equation,https://arxiv.org/abs/1011.1614\\n82,Nonautonomous Food-Limited Fishery Model With Adaptive Harvesting,https://arxiv.org/abs/1006.5431\\n83,Hydrodynamics of undulatory fish schooling in lateral configurations,https://arxiv.org/abs/1003.4441\\n84,On the fish-like swimming of linked bodies with and without skin,https://arxiv.org/abs/0912.4577\\n85,Computer Simulations to Study Sympatric Speciation Processes,https://arxiv.org/abs/q-bio/0504006\\n86,lambda Phi^4 Theory From a Particle-Gas Viewpoint,https://arxiv.org/abs/hep-ph/9711449\\n87,Framework for Variable-lag Motif Following Relation Inference In Time Series using Matrix Profile analysis,https://arxiv.org/abs/2401.02860\\n88,\"Investigating the classical problem of pursuit, in two modes\",https://arxiv.org/abs/2309.02471\\n89,Quantifying the biomimicry gap in biohybrid robot-fish pairs,https://arxiv.org/abs/2308.08978\\n90,SAR Ship Target Recognition via Selective Feature Discrimination and Multifeature Center Classifier,https://arxiv.org/abs/2308.10250\\n91,Vortex phase matching of a self-propelled model of fish with autonomous fin motion,https://arxiv.org/abs/2304.02935\\n92,Predicting the long-term collective behaviour of fish pairs with deep learning,https://arxiv.org/abs/2302.06839\\n93,CREPES: Cooperative RElative Pose Estimation System,https://arxiv.org/abs/2302.01036\\n94,A contrastive learning approach for individual re-identification in a wild fish population,https://arxiv.org/abs/2301.00596\\n95,A hybrid motion estimation technique for fisheye video sequences based on equisolid re-projection,https://arxiv.org/abs/2211.16995\\n96,ViSE: Vision-Based 3D Online Shape Estimation of Continuously Deformable Robots,https://arxiv.org/abs/2211.05222\\n97,Detection of Anticipatory Dynamics Between a Pair of Zebrafish,https://arxiv.org/abs/2112.10994\\n98,More than just Frequency? Demasking Unsupervised Hypernymy Prediction Methods,https://arxiv.org/abs/2106.00055\\n99,\"Liquid films falling down a vertical fiber: modeling, simulations and experiments\",https://arxiv.org/abs/2104.05761\\n100,Fish Growth Trajectory Tracking via Reinforcement Learning in Precision Aquaculture,https://arxiv.org/abs/2103.07251\\n101,Lower bounds on the Erdős-Gyárfás problem via color energy graphs,https://arxiv.org/abs/2102.11466\\n102,Two-dimensionally stable self-organization arises in simple schooling swimmers through hydrodynamic interactions,https://arxiv.org/abs/2102.03571\\n103,Modes of Information Flow in Collective Cohesion,https://arxiv.org/abs/2012.00293\\n104,\"School cohesion, speed, and efficiency are modulated by the swimmers flapping motion\",https://arxiv.org/abs/2009.12715\\n105,Identifying partners at sea on contrasting fisheries around the world,https://arxiv.org/abs/2009.02601\\n106,Persistent meanders and eddies lead to a quasi-steady Lagrangian transport pattern in a weak western boundary current,https://arxiv.org/abs/2008.07620\\n107,Calculating Pose with Vanishing Points of Visual-Sphere Perspective Model,https://arxiv.org/abs/2004.08933\\n108,UWGAN: Underwater GAN for Real-world Underwater Color Restoration and Dehazing,https://arxiv.org/abs/1912.10269\\n109,Orienting Ordered Scaffolds: Complexity and Algorithms,https://arxiv.org/abs/1911.11190\\n110,Automatic Weight Estimation of Harvested Fish from Images,https://arxiv.org/abs/1909.02710\\n111,Conformational Heterogeneity in Human Interphase Chromosome Organization Reconciles the FISH and Hi-C Paradox,https://arxiv.org/abs/1904.09485\\n112,CNN based dense underwater 3D scene reconstruction by transfer learning using bubble database,https://arxiv.org/abs/1811.09675\\n113,Multi-scale CNN stereo and pattern removal technique for underwater active stereo system,https://arxiv.org/abs/1808.08348\\n114,Quantum Optics in Maxwell\\'s Fish Eye Lens with Single Atoms and Photons,https://arxiv.org/abs/1805.11739\\n115,A mathematical model for gene evolution after whole genome duplication,https://arxiv.org/abs/1702.06255\\n116,A draft genome assembly of southern bluefin tuna Thunnus maccoyii,https://arxiv.org/abs/1607.03955\\n117,Optimal undulating swimming for a single fish-like body and for a pair of interacting swimmers,https://arxiv.org/abs/1604.01065\\n118,Generalized Statistical Tests for mRNA and Protein Subcellular Spatial Patterning against Complete Spatial Randomness,https://arxiv.org/abs/1602.06429\\n119,Identifying differences in the rules of interaction between individuals in moving animal groups,https://arxiv.org/abs/1601.08202\\n120,Dipole interactions in doubly-periodic domains,https://arxiv.org/abs/1304.6795\\n121,The parameters of Menzerath-Altmann law in genomes,https://arxiv.org/abs/1201.1746\\n122,Mechanism of magnetic field effect in cryptochrome,https://arxiv.org/abs/1102.5359\\n123,The Gould-Hopper Polynomials in the Novikov-Veselov equation,https://arxiv.org/abs/1011.1614\\n124,Nonautonomous Food-Limited Fishery Model With Adaptive Harvesting,https://arxiv.org/abs/1006.5431\\n125,Hydrodynamics of undulatory fish schooling in lateral configurations,https://arxiv.org/abs/1003.4441\\n126,On the fish-like swimming of linked bodies with and without skin,https://arxiv.org/abs/0912.4577\\n127,Computer Simulations to Study Sympatric Speciation Processes,https://arxiv.org/abs/q-bio/0504006\\n128,lambda Phi^4 Theory From a Particle-Gas Viewpoint,https://arxiv.org/abs/hep-ph/9711449\\n129,\"Investigating the classical problem of pursuit, in two modes\",https://arxiv.org/abs/2309.02471\\n130,Quantifying the biomimicry gap in biohybrid robot-fish pairs,https://arxiv.org/abs/2308.08978\\n131,SAR Ship Target Recognition via Selective Feature Discrimination and Multifeature Center Classifier,https://arxiv.org/abs/2308.10250\\n132,Vortex phase matching of a self-propelled model of fish with autonomous fin motion,https://arxiv.org/abs/2304.02935\\n133,Predicting the long-term collective behaviour of fish pairs with deep learning,https://arxiv.org/abs/2302.06839\\n134,CREPES: Cooperative RElative Pose Estimation System,https://arxiv.org/abs/2302.01036\\n135,A contrastive learning approach for individual re-identification in a wild fish population,https://arxiv.org/abs/2301.00596\\n136,A hybrid motion estimation technique for fisheye video sequences based on equisolid re-projection,https://arxiv.org/abs/2211.16995\\n137,ViSE: Vision-Based 3D Online Shape Estimation of Continuously Deformable Robots,https://arxiv.org/abs/2211.05222\\n138,Detection of Anticipatory Dynamics Between a Pair of Zebrafish,https://arxiv.org/abs/2112.10994\\n139,More than just Frequency? Demasking Unsupervised Hypernymy Prediction Methods,https://arxiv.org/abs/2106.00055\\n140,\"Liquid films falling down a vertical fiber: modeling, simulations and experiments\",https://arxiv.org/abs/2104.05761\\n141,Fish Growth Trajectory Tracking via Reinforcement Learning in Precision Aquaculture,https://arxiv.org/abs/2103.07251\\n142,Lower bounds on the Erdős-Gyárfás problem via color energy graphs,https://arxiv.org/abs/2102.11466\\n143,Two-dimensionally stable self-organization arises in simple schooling swimmers through hydrodynamic interactions,https://arxiv.org/abs/2102.03571\\n144,Modes of Information Flow in Collective Cohesion,https://arxiv.org/abs/2012.00293\\n145,\"School cohesion, speed, and efficiency are modulated by the swimmers flapping motion\",https://arxiv.org/abs/2009.12715\\n146,Identifying partners at sea on contrasting fisheries around the world,https://arxiv.org/abs/2009.02601\\n147,Persistent meanders and eddies lead to a quasi-steady Lagrangian transport pattern in a weak western boundary current,https://arxiv.org/abs/2008.07620\\n148,Calculating Pose with Vanishing Points of Visual-Sphere Perspective Model,https://arxiv.org/abs/2004.08933\\n149,UWGAN: Underwater GAN for Real-world Underwater Color Restoration and Dehazing,https://arxiv.org/abs/1912.10269\\n150,Orienting Ordered Scaffolds: Complexity and Algorithms,https://arxiv.org/abs/1911.11190\\n151,Automatic Weight Estimation of Harvested Fish from Images,https://arxiv.org/abs/1909.02710\\n152,Conformational Heterogeneity in Human Interphase Chromosome Organization Reconciles the FISH and Hi-C Paradox,https://arxiv.org/abs/1904.09485\\n153,CNN based dense underwater 3D scene reconstruction by transfer learning using bubble database,https://arxiv.org/abs/1811.09675\\n154,Multi-scale CNN stereo and pattern removal technique for underwater active stereo system,https://arxiv.org/abs/1808.08348\\n155,Quantum Optics in Maxwell\\'s Fish Eye Lens with Single Atoms and Photons,https://arxiv.org/abs/1805.11739\\n156,A mathematical model for gene evolution after whole genome duplication,https://arxiv.org/abs/1702.06255\\n157,A draft genome assembly of southern bluefin tuna Thunnus maccoyii,https://arxiv.org/abs/1607.03955\\n158,Optimal undulating swimming for a single fish-like body and for a pair of interacting swimmers,https://arxiv.org/abs/1604.01065\\n159,Generalized Statistical Tests for mRNA and Protein Subcellular Spatial Patterning against Complete Spatial Randomness,https://arxiv.org/abs/1602.06429\\n160,Identifying differences in the rules of interaction between individuals in moving animal groups,https://arxiv.org/abs/1601.08202\\n161,Dipole interactions in doubly-periodic domains,https://arxiv.org/abs/1304.6795\\n162,The parameters of Menzerath-Altmann law in genomes,https://arxiv.org/abs/1201.1746\\n163,Mechanism of magnetic field effect in cryptochrome,https://arxiv.org/abs/1102.5359\\n164,The Gould-Hopper Polynomials in the Novikov-Veselov equation,https://arxiv.org/abs/1011.1614\\n165,Nonautonomous Food-Limited Fishery Model With Adaptive Harvesting,https://arxiv.org/abs/1006.5431\\n166,Hydrodynamics of undulatory fish schooling in lateral configurations,https://arxiv.org/abs/1003.4441\\n167,On the fish-like swimming of linked bodies with and without skin,https://arxiv.org/abs/0912.4577\\n168,Computer Simulations to Study Sympatric Speciation Processes,https://arxiv.org/abs/q-bio/0504006\\n169,lambda Phi^4 Theory From a Particle-Gas Viewpoint,https://arxiv.org/abs/hep-ph/9711449\\n170,Quantifying the biomimicry gap in biohybrid robot-fish pairs,https://arxiv.org/abs/2308.08978\\n171,SAR Ship Target Recognition via Selective Feature Discrimination and Multifeature Center Classifier,https://arxiv.org/abs/2308.10250\\n172,Vortex phase matching of a self-propelled model of fish with autonomous fin motion,https://arxiv.org/abs/2304.02935\\n173,Predicting the long-term collective behaviour of fish pairs with deep learning,https://arxiv.org/abs/2302.06839\\n174,CREPES: Cooperative RElative Pose Estimation System,https://arxiv.org/abs/2302.01036\\n175,A contrastive learning approach for individual re-identification in a wild fish population,https://arxiv.org/abs/2301.00596\\n176,A hybrid motion estimation technique for fisheye video sequences based on equisolid re-projection,https://arxiv.org/abs/2211.16995\\n177,ViSE: Vision-Based 3D Online Shape Estimation of Continuously Deformable Robots,https://arxiv.org/abs/2211.05222\\n178,Detection of Anticipatory Dynamics Between a Pair of Zebrafish,https://arxiv.org/abs/2112.10994\\n179,More than just Frequency? Demasking Unsupervised Hypernymy Prediction Methods,https://arxiv.org/abs/2106.00055\\n180,\"Liquid films falling down a vertical fiber: modeling, simulations and experiments\",https://arxiv.org/abs/2104.05761\\n181,Fish Growth Trajectory Tracking via Reinforcement Learning in Precision Aquaculture,https://arxiv.org/abs/2103.07251\\n182,Lower bounds on the Erdős-Gyárfás problem via color energy graphs,https://arxiv.org/abs/2102.11466\\n183,Two-dimensionally stable self-organization arises in simple schooling swimmers through hydrodynamic interactions,https://arxiv.org/abs/2102.03571\\n184,Modes of Information Flow in Collective Cohesion,https://arxiv.org/abs/2012.00293\\n185,Identifying partners at sea on contrasting fisheries around the world,https://arxiv.org/abs/2009.02601\\n186,\"School cohesion, speed, and efficiency are modulated by the swimmers flapping motion\",https://arxiv.org/abs/2009.12715\\n187,Persistent meanders and eddies lead to a quasi-steady Lagrangian transport pattern in a weak western boundary current,https://arxiv.org/abs/2008.07620\\n188,Calculating Pose with Vanishing Points of Visual-Sphere Perspective Model,https://arxiv.org/abs/2004.08933\\n189,UWGAN: Underwater GAN for Real-world Underwater Color Restoration and Dehazing,https://arxiv.org/abs/1912.10269\\n190,Orienting Ordered Scaffolds: Complexity and Algorithms,https://arxiv.org/abs/1911.11190\\n191,Automatic Weight Estimation of Harvested Fish from Images,https://arxiv.org/abs/1909.02710\\n192,Conformational Heterogeneity in Human Interphase Chromosome Organization Reconciles the FISH and Hi-C Paradox,https://arxiv.org/abs/1904.09485\\n193,CNN based dense underwater 3D scene reconstruction by transfer learning using bubble database,https://arxiv.org/abs/1811.09675\\n194,Multi-scale CNN stereo and pattern removal technique for underwater active stereo system,https://arxiv.org/abs/1808.08348\\n195,Quantum Optics in Maxwell\\'s Fish Eye Lens with Single Atoms and Photons,https://arxiv.org/abs/1805.11739\\n196,A mathematical model for gene evolution after whole genome duplication,https://arxiv.org/abs/1702.06255\\n197,A draft genome assembly of southern bluefin tuna Thunnus maccoyii,https://arxiv.org/abs/1607.03955\\n198,Optimal undulating swimming for a single fish-like body and for a pair of interacting swimmers,https://arxiv.org/abs/1604.01065\\n199,Generalized Statistical Tests for mRNA and Protein Subcellular Spatial Patterning against Complete Spatial Randomness,https://arxiv.org/abs/1602.06429\\n200,Identifying differences in the rules of interaction between individuals in moving animal groups,https://arxiv.org/abs/1601.08202\\n201,Dipole interactions in doubly-periodic domains,https://arxiv.org/abs/1304.6795\\n202,The parameters of Menzerath-Altmann law in genomes,https://arxiv.org/abs/1201.1746\\n203,Mechanism of magnetic field effect in cryptochrome,https://arxiv.org/abs/1102.5359\\n204,The Gould-Hopper Polynomials in the Novikov-Veselov equation,https://arxiv.org/abs/1011.1614\\n205,Nonautonomous Food-Limited Fishery Model With Adaptive Harvesting,https://arxiv.org/abs/1006.5431\\n206,Hydrodynamics of undulatory fish schooling in lateral configurations,https://arxiv.org/abs/1003.4441\\n207,On the fish-like swimming of linked bodies with and without skin,https://arxiv.org/abs/0912.4577\\n208,Computer Simulations to Study Sympatric Speciation Processes,https://arxiv.org/abs/q-bio/0504006\\n209,lambda Phi^4 Theory From a Particle-Gas Viewpoint,https://arxiv.org/abs/hep-ph/9711449\\n210,SAR Ship Target Recognition via Selective Feature Discrimination and Multifeature Center Classifier,https://arxiv.org/abs/2308.10250\\n211,Vortex phase matching of a self-propelled model of fish with autonomous fin motion,https://arxiv.org/abs/2304.02935\\n212,Predicting the long-term collective behaviour of fish pairs with deep learning,https://arxiv.org/abs/2302.06839\\n213,CREPES: Cooperative RElative Pose Estimation System,https://arxiv.org/abs/2302.01036\\n214,A contrastive learning approach for individual re-identification in a wild fish population,https://arxiv.org/abs/2301.00596\\n215,A hybrid motion estimation technique for fisheye video sequences based on equisolid re-projection,https://arxiv.org/abs/2211.16995\\n216,ViSE: Vision-Based 3D Online Shape Estimation of Continuously Deformable Robots,https://arxiv.org/abs/2211.05222\\n217,Detection of Anticipatory Dynamics Between a Pair of Zebrafish,https://arxiv.org/abs/2112.10994\\n218,More than just Frequency? Demasking Unsupervised Hypernymy Prediction Methods,https://arxiv.org/abs/2106.00055\\n219,\"Liquid films falling down a vertical fiber: modeling, simulations and experiments\",https://arxiv.org/abs/2104.05761\\n220,Fish Growth Trajectory Tracking via Reinforcement Learning in Precision Aquaculture,https://arxiv.org/abs/2103.07251\\n221,Lower bounds on the Erdős-Gyárfás problem via color energy graphs,https://arxiv.org/abs/2102.11466\\n222,Two-dimensionally stable self-organization arises in simple schooling swimmers through hydrodynamic interactions,https://arxiv.org/abs/2102.03571\\n223,Modes of Information Flow in Collective Cohesion,https://arxiv.org/abs/2012.00293\\n224,\"School cohesion, speed, and efficiency are modulated by the swimmers flapping motion\",https://arxiv.org/abs/2009.12715\\n225,Identifying partners at sea on contrasting fisheries around the world,https://arxiv.org/abs/2009.02601\\n226,Persistent meanders and eddies lead to a quasi-steady Lagrangian transport pattern in a weak western boundary current,https://arxiv.org/abs/2008.07620\\n227,Calculating Pose with Vanishing Points of Visual-Sphere Perspective Model,https://arxiv.org/abs/2004.08933\\n228,UWGAN: Underwater GAN for Real-world Underwater Color Restoration and Dehazing,https://arxiv.org/abs/1912.10269\\n229,Orienting Ordered Scaffolds: Complexity and Algorithms,https://arxiv.org/abs/1911.11190\\n230,Automatic Weight Estimation of Harvested Fish from Images,https://arxiv.org/abs/1909.02710\\n231,Conformational Heterogeneity in Human Interphase Chromosome Organization Reconciles the FISH and Hi-C Paradox,https://arxiv.org/abs/1904.09485\\n232,CNN based dense underwater 3D scene reconstruction by transfer learning using bubble database,https://arxiv.org/abs/1811.09675\\n233,Multi-scale CNN stereo and pattern removal technique for underwater active stereo system,https://arxiv.org/abs/1808.08348\\n234,Quantum Optics in Maxwell\\'s Fish Eye Lens with Single Atoms and Photons,https://arxiv.org/abs/1805.11739\\n235,A mathematical model for gene evolution after whole genome duplication,https://arxiv.org/abs/1702.06255\\n236,A draft genome assembly of southern bluefin tuna Thunnus maccoyii,https://arxiv.org/abs/1607.03955\\n237,Optimal undulating swimming for a single fish-like body and for a pair of interacting swimmers,https://arxiv.org/abs/1604.01065\\n238,Generalized Statistical Tests for mRNA and Protein Subcellular Spatial Patterning against Complete Spatial Randomness,https://arxiv.org/abs/1602.06429\\n239,Identifying differences in the rules of interaction between individuals in moving animal groups,https://arxiv.org/abs/1601.08202\\n240,Dipole interactions in doubly-periodic domains,https://arxiv.org/abs/1304.6795\\n241,The parameters of Menzerath-Altmann law in genomes,https://arxiv.org/abs/1201.1746\\n242,Mechanism of magnetic field effect in cryptochrome,https://arxiv.org/abs/1102.5359\\n243,The Gould-Hopper Polynomials in the Novikov-Veselov equation,https://arxiv.org/abs/1011.1614\\n244,Nonautonomous Food-Limited Fishery Model With Adaptive Harvesting,https://arxiv.org/abs/1006.5431\\n245,Hydrodynamics of undulatory fish schooling in lateral configurations,https://arxiv.org/abs/1003.4441\\n246,On the fish-like swimming of linked bodies with and without skin,https://arxiv.org/abs/0912.4577\\n247,Computer Simulations to Study Sympatric Speciation Processes,https://arxiv.org/abs/q-bio/0504006\\n248,lambda Phi^4 Theory From a Particle-Gas Viewpoint,https://arxiv.org/abs/hep-ph/9711449\\n249,Vortex phase matching of a self-propelled model of fish with autonomous fin motion,https://arxiv.org/abs/2304.02935\\n250,Predicting the long-term collective behaviour of fish pairs with deep learning,https://arxiv.org/abs/2302.06839\\n251,CREPES: Cooperative RElative Pose Estimation System,https://arxiv.org/abs/2302.01036\\n252,A contrastive learning approach for individual re-identification in a wild fish population,https://arxiv.org/abs/2301.00596\\n253,A hybrid motion estimation technique for fisheye video sequences based on equisolid re-projection,https://arxiv.org/abs/2211.16995\\n254,ViSE: Vision-Based 3D Online Shape Estimation of Continuously Deformable Robots,https://arxiv.org/abs/2211.05222\\n255,Detection of Anticipatory Dynamics Between a Pair of Zebrafish,https://arxiv.org/abs/2112.10994\\n256,More than just Frequency? Demasking Unsupervised Hypernymy Prediction Methods,https://arxiv.org/abs/2106.00055\\n257,\"Liquid films falling down a vertical fiber: modeling, simulations and experiments\",https://arxiv.org/abs/2104.05761\\n258,Fish Growth Trajectory Tracking via Reinforcement Learning in Precision Aquaculture,https://arxiv.org/abs/2103.07251\\n259,Lower bounds on the Erdős-Gyárfás problem via color energy graphs,https://arxiv.org/abs/2102.11466\\n260,Two-dimensionally stable self-organization arises in simple schooling swimmers through hydrodynamic interactions,https://arxiv.org/abs/2102.03571\\n261,Modes of Information Flow in Collective Cohesion,https://arxiv.org/abs/2012.00293\\n262,Identifying partners at sea on contrasting fisheries around the world,https://arxiv.org/abs/2009.02601\\n263,\"School cohesion, speed, and efficiency are modulated by the swimmers flapping motion\",https://arxiv.org/abs/2009.12715\\n264,Persistent meanders and eddies lead to a quasi-steady Lagrangian transport pattern in a weak western boundary current,https://arxiv.org/abs/2008.07620\\n265,Calculating Pose with Vanishing Points of Visual-Sphere Perspective Model,https://arxiv.org/abs/2004.08933\\n266,UWGAN: Underwater GAN for Real-world Underwater Color Restoration and Dehazing,https://arxiv.org/abs/1912.10269\\n267,Orienting Ordered Scaffolds: Complexity and Algorithms,https://arxiv.org/abs/1911.11190\\n268,Automatic Weight Estimation of Harvested Fish from Images,https://arxiv.org/abs/1909.02710\\n269,Conformational Heterogeneity in Human Interphase Chromosome Organization Reconciles the FISH and Hi-C Paradox,https://arxiv.org/abs/1904.09485\\n270,CNN based dense underwater 3D scene reconstruction by transfer learning using bubble database,https://arxiv.org/abs/1811.09675\\n271,Multi-scale CNN stereo and pattern removal technique for underwater active stereo system,https://arxiv.org/abs/1808.08348\\n272,Quantum Optics in Maxwell\\'s Fish Eye Lens with Single Atoms and Photons,https://arxiv.org/abs/1805.11739\\n273,A mathematical model for gene evolution after whole genome duplication,https://arxiv.org/abs/1702.06255\\n274,A draft genome assembly of southern bluefin tuna Thunnus maccoyii,https://arxiv.org/abs/1607.03955\\n275,Optimal undulating swimming for a single fish-like body and for a pair of interacting swimmers,https://arxiv.org/abs/1604.01065\\n276,Generalized Statistical Tests for mRNA and Protein Subcellular Spatial Patterning against Complete Spatial Randomness,https://arxiv.org/abs/1602.06429\\n277,Identifying differences in the rules of interaction between individuals in moving animal groups,https://arxiv.org/abs/1601.08202\\n278,Dipole interactions in doubly-periodic domains,https://arxiv.org/abs/1304.6795\\n279,The parameters of Menzerath-Altmann law in genomes,https://arxiv.org/abs/1201.1746\\n280,Mechanism of magnetic field effect in cryptochrome,https://arxiv.org/abs/1102.5359\\n281,The Gould-Hopper Polynomials in the Novikov-Veselov equation,https://arxiv.org/abs/1011.1614\\n282,Nonautonomous Food-Limited Fishery Model With Adaptive Harvesting,https://arxiv.org/abs/1006.5431\\n283,Hydrodynamics of undulatory fish schooling in lateral configurations,https://arxiv.org/abs/1003.4441\\n284,On the fish-like swimming of linked bodies with and without skin,https://arxiv.org/abs/0912.4577\\n285,Computer Simulations to Study Sympatric Speciation Processes,https://arxiv.org/abs/q-bio/0504006\\n286,lambda Phi^4 Theory From a Particle-Gas Viewpoint,https://arxiv.org/abs/hep-ph/9711449\\n287,Predicting the long-term collective behaviour of fish pairs with deep learning,https://arxiv.org/abs/2302.06839\\n288,CREPES: Cooperative RElative Pose Estimation System,https://arxiv.org/abs/2302.01036\\n289,A contrastive learning approach for individual re-identification in a wild fish population,https://arxiv.org/abs/2301.00596\\n290,A hybrid motion estimation technique for fisheye video sequences based on equisolid re-projection,https://arxiv.org/abs/2211.16995\\n291,ViSE: Vision-Based 3D Online Shape Estimation of Continuously Deformable Robots,https://arxiv.org/abs/2211.05222\\n292,Detection of Anticipatory Dynamics Between a Pair of Zebrafish,https://arxiv.org/abs/2112.10994\\n293,More than just Frequency? Demasking Unsupervised Hypernymy Prediction Methods,https://arxiv.org/abs/2106.00055\\n294,\"Liquid films falling down a vertical fiber: modeling, simulations and experiments\",https://arxiv.org/abs/2104.05761\\n295,Fish Growth Trajectory Tracking via Reinforcement Learning in Precision Aquaculture,https://arxiv.org/abs/2103.07251\\n296,Lower bounds on the Erdős-Gyárfás problem via color energy graphs,https://arxiv.org/abs/2102.11466\\n297,Two-dimensionally stable self-organization arises in simple schooling swimmers through hydrodynamic interactions,https://arxiv.org/abs/2102.03571\\n298,Modes of Information Flow in Collective Cohesion,https://arxiv.org/abs/2012.00293\\n299,Identifying partners at sea on contrasting fisheries around the world,https://arxiv.org/abs/2009.02601\\n300,\"School cohesion, speed, and efficiency are modulated by the swimmers flapping motion\",https://arxiv.org/abs/2009.12715\\n301,Persistent meanders and eddies lead to a quasi-steady Lagrangian transport pattern in a weak western boundary current,https://arxiv.org/abs/2008.07620\\n302,Calculating Pose with Vanishing Points of Visual-Sphere Perspective Model,https://arxiv.org/abs/2004.08933\\n303,UWGAN: Underwater GAN for Real-world Underwater Color Restoration and Dehazing,https://arxiv.org/abs/1912.10269\\n304,Orienting Ordered Scaffolds: Complexity and Algorithms,https://arxiv.org/abs/1911.11190\\n305,Automatic Weight Estimation of Harvested Fish from Images,https://arxiv.org/abs/1909.02710\\n306,Conformational Heterogeneity in Human Interphase Chromosome Organization Reconciles the FISH and Hi-C Paradox,https://arxiv.org/abs/1904.09485\\n307,CNN based dense underwater 3D scene reconstruction by transfer learning using bubble database,https://arxiv.org/abs/1811.09675\\n308,Multi-scale CNN stereo and pattern removal technique for underwater active stereo system,https://arxiv.org/abs/1808.08348\\n309,Quantum Optics in Maxwell\\'s Fish Eye Lens with Single Atoms and Photons,https://arxiv.org/abs/1805.11739\\n310,A mathematical model for gene evolution after whole genome duplication,https://arxiv.org/abs/1702.06255\\n311,A draft genome assembly of southern bluefin tuna Thunnus maccoyii,https://arxiv.org/abs/1607.03955\\n312,Optimal undulating swimming for a single fish-like body and for a pair of interacting swimmers,https://arxiv.org/abs/1604.01065\\n313,Generalized Statistical Tests for mRNA and Protein Subcellular Spatial Patterning against Complete Spatial Randomness,https://arxiv.org/abs/1602.06429\\n314,Identifying differences in the rules of interaction between individuals in moving animal groups,https://arxiv.org/abs/1601.08202\\n315,Dipole interactions in doubly-periodic domains,https://arxiv.org/abs/1304.6795\\n316,The parameters of Menzerath-Altmann law in genomes,https://arxiv.org/abs/1201.1746\\n317,Mechanism of magnetic field effect in cryptochrome,https://arxiv.org/abs/1102.5359\\n318,The Gould-Hopper Polynomials in the Novikov-Veselov equation,https://arxiv.org/abs/1011.1614\\n319,Nonautonomous Food-Limited Fishery Model With Adaptive Harvesting,https://arxiv.org/abs/1006.5431\\n320,Hydrodynamics of undulatory fish schooling in lateral configurations,https://arxiv.org/abs/1003.4441\\n321,On the fish-like swimming of linked bodies with and without skin,https://arxiv.org/abs/0912.4577\\n322,Computer Simulations to Study Sympatric Speciation Processes,https://arxiv.org/abs/q-bio/0504006\\n323,lambda Phi^4 Theory From a Particle-Gas Viewpoint,https://arxiv.org/abs/hep-ph/9711449\\n324,CREPES: Cooperative RElative Pose Estimation System,https://arxiv.org/abs/2302.01036\\n325,A contrastive learning approach for individual re-identification in a wild fish population,https://arxiv.org/abs/2301.00596\\n326,A hybrid motion estimation technique for fisheye video sequences based on equisolid re-projection,https://arxiv.org/abs/2211.16995\\n327,ViSE: Vision-Based 3D Online Shape Estimation of Continuously Deformable Robots,https://arxiv.org/abs/2211.05222\\n328,Detection of Anticipatory Dynamics Between a Pair of Zebrafish,https://arxiv.org/abs/2112.10994\\n329,More than just Frequency? Demasking Unsupervised Hypernymy Prediction Methods,https://arxiv.org/abs/2106.00055\\n330,\"Liquid films falling down a vertical fiber: modeling, simulations and experiments\",https://arxiv.org/abs/2104.05761\\n331,Fish Growth Trajectory Tracking via Reinforcement Learning in Precision Aquaculture,https://arxiv.org/abs/2103.07251\\n332,Lower bounds on the Erdős-Gyárfás problem via color energy graphs,https://arxiv.org/abs/2102.11466\\n333,Two-dimensionally stable self-organization arises in simple schooling swimmers through hydrodynamic interactions,https://arxiv.org/abs/2102.03571\\n334,Modes of Information Flow in Collective Cohesion,https://arxiv.org/abs/2012.00293\\n335,\"School cohesion, speed, and efficiency are modulated by the swimmers flapping motion\",https://arxiv.org/abs/2009.12715\\n336,Identifying partners at sea on contrasting fisheries around the world,https://arxiv.org/abs/2009.02601\\n337,Persistent meanders and eddies lead to a quasi-steady Lagrangian transport pattern in a weak western boundary current,https://arxiv.org/abs/2008.07620\\n338,Calculating Pose with Vanishing Points of Visual-Sphere Perspective Model,https://arxiv.org/abs/2004.08933\\n339,UWGAN: Underwater GAN for Real-world Underwater Color Restoration and Dehazing,https://arxiv.org/abs/1912.10269\\n340,Orienting Ordered Scaffolds: Complexity and Algorithms,https://arxiv.org/abs/1911.11190\\n341,Automatic Weight Estimation of Harvested Fish from Images,https://arxiv.org/abs/1909.02710\\n342,Conformational Heterogeneity in Human Interphase Chromosome Organization Reconciles the FISH and Hi-C Paradox,https://arxiv.org/abs/1904.09485\\n343,CNN based dense underwater 3D scene reconstruction by transfer learning using bubble database,https://arxiv.org/abs/1811.09675\\n344,Multi-scale CNN stereo and pattern removal technique for underwater active stereo system,https://arxiv.org/abs/1808.08348\\n345,Quantum Optics in Maxwell\\'s Fish Eye Lens with Single Atoms and Photons,https://arxiv.org/abs/1805.11739\\n346,A mathematical model for gene evolution after whole genome duplication,https://arxiv.org/abs/1702.06255\\n347,A draft genome assembly of southern bluefin tuna Thunnus maccoyii,https://arxiv.org/abs/1607.03955\\n348,Optimal undulating swimming for a single fish-like body and for a pair of interacting swimmers,https://arxiv.org/abs/1604.01065\\n349,Generalized Statistical Tests for mRNA and Protein Subcellular Spatial Patterning against Complete Spatial Randomness,https://arxiv.org/abs/1602.06429\\n350,Identifying differences in the rules of interaction between individuals in moving animal groups,https://arxiv.org/abs/1601.08202\\n351,Dipole interactions in doubly-periodic domains,https://arxiv.org/abs/1304.6795\\n352,The parameters of Menzerath-Altmann law in genomes,https://arxiv.org/abs/1201.1746\\n353,Mechanism of magnetic field effect in cryptochrome,https://arxiv.org/abs/1102.5359\\n354,The Gould-Hopper Polynomials in the Novikov-Veselov equation,https://arxiv.org/abs/1011.1614\\n355,Nonautonomous Food-Limited Fishery Model With Adaptive Harvesting,https://arxiv.org/abs/1006.5431\\n356,Hydrodynamics of undulatory fish schooling in lateral configurations,https://arxiv.org/abs/1003.4441\\n357,On the fish-like swimming of linked bodies with and without skin,https://arxiv.org/abs/0912.4577\\n358,Computer Simulations to Study Sympatric Speciation Processes,https://arxiv.org/abs/q-bio/0504006\\n359,lambda Phi^4 Theory From a Particle-Gas Viewpoint,https://arxiv.org/abs/hep-ph/9711449\\n360,A contrastive learning approach for individual re-identification in a wild fish population,https://arxiv.org/abs/2301.00596\\n361,A hybrid motion estimation technique for fisheye video sequences based on equisolid re-projection,https://arxiv.org/abs/2211.16995\\n362,ViSE: Vision-Based 3D Online Shape Estimation of Continuously Deformable Robots,https://arxiv.org/abs/2211.05222\\n363,Detection of Anticipatory Dynamics Between a Pair of Zebrafish,https://arxiv.org/abs/2112.10994\\n364,More than just Frequency? Demasking Unsupervised Hypernymy Prediction Methods,https://arxiv.org/abs/2106.00055\\n365,\"Liquid films falling down a vertical fiber: modeling, simulations and experiments\",https://arxiv.org/abs/2104.05761\\n366,Fish Growth Trajectory Tracking via Reinforcement Learning in Precision Aquaculture,https://arxiv.org/abs/2103.07251\\n367,Lower bounds on the Erdős-Gyárfás problem via color energy graphs,https://arxiv.org/abs/2102.11466\\n368,Two-dimensionally stable self-organization arises in simple schooling swimmers through hydrodynamic interactions,https://arxiv.org/abs/2102.03571\\n369,Modes of Information Flow in Collective Cohesion,https://arxiv.org/abs/2012.00293\\n370,Identifying partners at sea on contrasting fisheries around the world,https://arxiv.org/abs/2009.02601\\n371,\"School cohesion, speed, and efficiency are modulated by the swimmers flapping motion\",https://arxiv.org/abs/2009.12715\\n372,Persistent meanders and eddies lead to a quasi-steady Lagrangian transport pattern in a weak western boundary current,https://arxiv.org/abs/2008.07620\\n373,Calculating Pose with Vanishing Points of Visual-Sphere Perspective Model,https://arxiv.org/abs/2004.08933\\n374,UWGAN: Underwater GAN for Real-world Underwater Color Restoration and Dehazing,https://arxiv.org/abs/1912.10269\\n375,Orienting Ordered Scaffolds: Complexity and Algorithms,https://arxiv.org/abs/1911.11190\\n376,Automatic Weight Estimation of Harvested Fish from Images,https://arxiv.org/abs/1909.02710\\n377,Conformational Heterogeneity in Human Interphase Chromosome Organization Reconciles the FISH and Hi-C Paradox,https://arxiv.org/abs/1904.09485\\n378,CNN based dense underwater 3D scene reconstruction by transfer learning using bubble database,https://arxiv.org/abs/1811.09675\\n379,Multi-scale CNN stereo and pattern removal technique for underwater active stereo system,https://arxiv.org/abs/1808.08348\\n380,Quantum Optics in Maxwell\\'s Fish Eye Lens with Single Atoms and Photons,https://arxiv.org/abs/1805.11739\\n381,A mathematical model for gene evolution after whole genome duplication,https://arxiv.org/abs/1702.06255\\n382,A draft genome assembly of southern bluefin tuna Thunnus maccoyii,https://arxiv.org/abs/1607.03955\\n383,Optimal undulating swimming for a single fish-like body and for a pair of interacting swimmers,https://arxiv.org/abs/1604.01065\\n384,Generalized Statistical Tests for mRNA and Protein Subcellular Spatial Patterning against Complete Spatial Randomness,https://arxiv.org/abs/1602.06429\\n385,Identifying differences in the rules of interaction between individuals in moving animal groups,https://arxiv.org/abs/1601.08202\\n386,Dipole interactions in doubly-periodic domains,https://arxiv.org/abs/1304.6795\\n387,The parameters of Menzerath-Altmann law in genomes,https://arxiv.org/abs/1201.1746\\n388,Mechanism of magnetic field effect in cryptochrome,https://arxiv.org/abs/1102.5359\\n389,The Gould-Hopper Polynomials in the Novikov-Veselov equation,https://arxiv.org/abs/1011.1614\\n390,Nonautonomous Food-Limited Fishery Model With Adaptive Harvesting,https://arxiv.org/abs/1006.5431\\n391,Hydrodynamics of undulatory fish schooling in lateral configurations,https://arxiv.org/abs/1003.4441\\n392,On the fish-like swimming of linked bodies with and without skin,https://arxiv.org/abs/0912.4577\\n393,Computer Simulations to Study Sympatric Speciation Processes,https://arxiv.org/abs/q-bio/0504006\\n394,lambda Phi^4 Theory From a Particle-Gas Viewpoint,https://arxiv.org/abs/hep-ph/9711449\\n395,A hybrid motion estimation technique for fisheye video sequences based on equisolid re-projection,https://arxiv.org/abs/2211.16995\\n396,ViSE: Vision-Based 3D Online Shape Estimation of Continuously Deformable Robots,https://arxiv.org/abs/2211.05222\\n397,Detection of Anticipatory Dynamics Between a Pair of Zebrafish,https://arxiv.org/abs/2112.10994\\n398,More than just Frequency? Demasking Unsupervised Hypernymy Prediction Methods,https://arxiv.org/abs/2106.00055\\n399,\"Liquid films falling down a vertical fiber: modeling, simulations and experiments\",https://arxiv.org/abs/2104.05761\\n400,Fish Growth Trajectory Tracking via Reinforcement Learning in Precision Aquaculture,https://arxiv.org/abs/2103.07251\\n401,Lower bounds on the Erdős-Gyárfás problem via color energy graphs,https://arxiv.org/abs/2102.11466\\n402,Two-dimensionally stable self-organization arises in simple schooling swimmers through hydrodynamic interactions,https://arxiv.org/abs/2102.03571\\n403,Modes of Information Flow in Collective Cohesion,https://arxiv.org/abs/2012.00293\\n404,\"School cohesion, speed, and efficiency are modulated by the swimmers flapping motion\",https://arxiv.org/abs/2009.12715\\n405,Identifying partners at sea on contrasting fisheries around the world,https://arxiv.org/abs/2009.02601\\n406,Persistent meanders and eddies lead to a quasi-steady Lagrangian transport pattern in a weak western boundary current,https://arxiv.org/abs/2008.07620\\n407,Calculating Pose with Vanishing Points of Visual-Sphere Perspective Model,https://arxiv.org/abs/2004.08933\\n408,UWGAN: Underwater GAN for Real-world Underwater Color Restoration and Dehazing,https://arxiv.org/abs/1912.10269\\n409,Orienting Ordered Scaffolds: Complexity and Algorithms,https://arxiv.org/abs/1911.11190\\n410,Automatic Weight Estimation of Harvested Fish from Images,https://arxiv.org/abs/1909.02710\\n411,Conformational Heterogeneity in Human Interphase Chromosome Organization Reconciles the FISH and Hi-C Paradox,https://arxiv.org/abs/1904.09485\\n412,CNN based dense underwater 3D scene reconstruction by transfer learning using bubble database,https://arxiv.org/abs/1811.09675\\n413,Multi-scale CNN stereo and pattern removal technique for underwater active stereo system,https://arxiv.org/abs/1808.08348\\n414,Quantum Optics in Maxwell\\'s Fish Eye Lens with Single Atoms and Photons,https://arxiv.org/abs/1805.11739\\n415,A mathematical model for gene evolution after whole genome duplication,https://arxiv.org/abs/1702.06255\\n416,A draft genome assembly of southern bluefin tuna Thunnus maccoyii,https://arxiv.org/abs/1607.03955\\n417,Optimal undulating swimming for a single fish-like body and for a pair of interacting swimmers,https://arxiv.org/abs/1604.01065\\n418,Generalized Statistical Tests for mRNA and Protein Subcellular Spatial Patterning against Complete Spatial Randomness,https://arxiv.org/abs/1602.06429\\n419,Identifying differences in the rules of interaction between individuals in moving animal groups,https://arxiv.org/abs/1601.08202\\n420,Dipole interactions in doubly-periodic domains,https://arxiv.org/abs/1304.6795\\n421,The parameters of Menzerath-Altmann law in genomes,https://arxiv.org/abs/1201.1746\\n422,Mechanism of magnetic field effect in cryptochrome,https://arxiv.org/abs/1102.5359\\n423,The Gould-Hopper Polynomials in the Novikov-Veselov equation,https://arxiv.org/abs/1011.1614\\n424,Nonautonomous Food-Limited Fishery Model With Adaptive Harvesting,https://arxiv.org/abs/1006.5431\\n425,Hydrodynamics of undulatory fish schooling in lateral configurations,https://arxiv.org/abs/1003.4441\\n426,On the fish-like swimming of linked bodies with and without skin,https://arxiv.org/abs/0912.4577\\n427,Computer Simulations to Study Sympatric Speciation Processes,https://arxiv.org/abs/q-bio/0504006\\n428,lambda Phi^4 Theory From a Particle-Gas Viewpoint,https://arxiv.org/abs/hep-ph/9711449\\n429,ViSE: Vision-Based 3D Online Shape Estimation of Continuously Deformable Robots,https://arxiv.org/abs/2211.05222\\n430,Detection of Anticipatory Dynamics Between a Pair of Zebrafish,https://arxiv.org/abs/2112.10994\\n431,More than just Frequency? Demasking Unsupervised Hypernymy Prediction Methods,https://arxiv.org/abs/2106.00055\\n432,\"Liquid films falling down a vertical fiber: modeling, simulations and experiments\",https://arxiv.org/abs/2104.05761\\n433,Fish Growth Trajectory Tracking via Reinforcement Learning in Precision Aquaculture,https://arxiv.org/abs/2103.07251\\n434,Lower bounds on the Erdős-Gyárfás problem via color energy graphs,https://arxiv.org/abs/2102.11466\\n435,Two-dimensionally stable self-organization arises in simple schooling swimmers through hydrodynamic interactions,https://arxiv.org/abs/2102.03571\\n436,Modes of Information Flow in Collective Cohesion,https://arxiv.org/abs/2012.00293\\n437,Identifying partners at sea on contrasting fisheries around the world,https://arxiv.org/abs/2009.02601\\n438,\"School cohesion, speed, and efficiency are modulated by the swimmers flapping motion\",https://arxiv.org/abs/2009.12715\\n439,Persistent meanders and eddies lead to a quasi-steady Lagrangian transport pattern in a weak western boundary current,https://arxiv.org/abs/2008.07620\\n440,Calculating Pose with Vanishing Points of Visual-Sphere Perspective Model,https://arxiv.org/abs/2004.08933\\n441,UWGAN: Underwater GAN for Real-world Underwater Color Restoration and Dehazing,https://arxiv.org/abs/1912.10269\\n442,Orienting Ordered Scaffolds: Complexity and Algorithms,https://arxiv.org/abs/1911.11190\\n443,Automatic Weight Estimation of Harvested Fish from Images,https://arxiv.org/abs/1909.02710\\n444,Conformational Heterogeneity in Human Interphase Chromosome Organization Reconciles the FISH and Hi-C Paradox,https://arxiv.org/abs/1904.09485\\n445,CNN based dense underwater 3D scene reconstruction by transfer learning using bubble database,https://arxiv.org/abs/1811.09675\\n446,Multi-scale CNN stereo and pattern removal technique for underwater active stereo system,https://arxiv.org/abs/1808.08348\\n447,Quantum Optics in Maxwell\\'s Fish Eye Lens with Single Atoms and Photons,https://arxiv.org/abs/1805.11739\\n448,A mathematical model for gene evolution after whole genome duplication,https://arxiv.org/abs/1702.06255\\n449,A draft genome assembly of southern bluefin tuna Thunnus maccoyii,https://arxiv.org/abs/1607.03955\\n450,Optimal undulating swimming for a single fish-like body and for a pair of interacting swimmers,https://arxiv.org/abs/1604.01065\\n451,Generalized Statistical Tests for mRNA and Protein Subcellular Spatial Patterning against Complete Spatial Randomness,https://arxiv.org/abs/1602.06429\\n452,Identifying differences in the rules of interaction between individuals in moving animal groups,https://arxiv.org/abs/1601.08202\\n453,Dipole interactions in doubly-periodic domains,https://arxiv.org/abs/1304.6795\\n454,The parameters of Menzerath-Altmann law in genomes,https://arxiv.org/abs/1201.1746\\n455,Mechanism of magnetic field effect in cryptochrome,https://arxiv.org/abs/1102.5359\\n456,The Gould-Hopper Polynomials in the Novikov-Veselov equation,https://arxiv.org/abs/1011.1614\\n457,Nonautonomous Food-Limited Fishery Model With Adaptive Harvesting,https://arxiv.org/abs/1006.5431\\n458,Hydrodynamics of undulatory fish schooling in lateral configurations,https://arxiv.org/abs/1003.4441\\n459,On the fish-like swimming of linked bodies with and without skin,https://arxiv.org/abs/0912.4577\\n460,Computer Simulations to Study Sympatric Speciation Processes,https://arxiv.org/abs/q-bio/0504006\\n461,lambda Phi^4 Theory From a Particle-Gas Viewpoint,https://arxiv.org/abs/hep-ph/9711449\\n462,Detection of Anticipatory Dynamics Between a Pair of Zebrafish,https://arxiv.org/abs/2112.10994\\n463,More than just Frequency? Demasking Unsupervised Hypernymy Prediction Methods,https://arxiv.org/abs/2106.00055\\n464,\"Liquid films falling down a vertical fiber: modeling, simulations and experiments\",https://arxiv.org/abs/2104.05761\\n465,Fish Growth Trajectory Tracking via Reinforcement Learning in Precision Aquaculture,https://arxiv.org/abs/2103.07251\\n466,Lower bounds on the Erdős-Gyárfás problem via color energy graphs,https://arxiv.org/abs/2102.11466\\n467,Two-dimensionally stable self-organization arises in simple schooling swimmers through hydrodynamic interactions,https://arxiv.org/abs/2102.03571\\n468,Modes of Information Flow in Collective Cohesion,https://arxiv.org/abs/2012.00293\\n469,\"School cohesion, speed, and efficiency are modulated by the swimmers flapping motion\",https://arxiv.org/abs/2009.12715\\n470,Identifying partners at sea on contrasting fisheries around the world,https://arxiv.org/abs/2009.02601\\n471,Persistent meanders and eddies lead to a quasi-steady Lagrangian transport pattern in a weak western boundary current,https://arxiv.org/abs/2008.07620\\n472,Calculating Pose with Vanishing Points of Visual-Sphere Perspective Model,https://arxiv.org/abs/2004.08933\\n473,UWGAN: Underwater GAN for Real-world Underwater Color Restoration and Dehazing,https://arxiv.org/abs/1912.10269\\n474,Orienting Ordered Scaffolds: Complexity and Algorithms,https://arxiv.org/abs/1911.11190\\n475,Automatic Weight Estimation of Harvested Fish from Images,https://arxiv.org/abs/1909.02710\\n476,Conformational Heterogeneity in Human Interphase Chromosome Organization Reconciles the FISH and Hi-C Paradox,https://arxiv.org/abs/1904.09485\\n477,CNN based dense underwater 3D scene reconstruction by transfer learning using bubble database,https://arxiv.org/abs/1811.09675\\n478,Multi-scale CNN stereo and pattern removal technique for underwater active stereo system,https://arxiv.org/abs/1808.08348\\n479,Quantum Optics in Maxwell\\'s Fish Eye Lens with Single Atoms and Photons,https://arxiv.org/abs/1805.11739\\n480,A mathematical model for gene evolution after whole genome duplication,https://arxiv.org/abs/1702.06255\\n481,A draft genome assembly of southern bluefin tuna Thunnus maccoyii,https://arxiv.org/abs/1607.03955\\n482,Optimal undulating swimming for a single fish-like body and for a pair of interacting swimmers,https://arxiv.org/abs/1604.01065\\n483,Generalized Statistical Tests for mRNA and Protein Subcellular Spatial Patterning against Complete Spatial Randomness,https://arxiv.org/abs/1602.06429\\n484,Identifying differences in the rules of interaction between individuals in moving animal groups,https://arxiv.org/abs/1601.08202\\n485,Dipole interactions in doubly-periodic domains,https://arxiv.org/abs/1304.6795\\n486,The parameters of Menzerath-Altmann law in genomes,https://arxiv.org/abs/1201.1746\\n487,Mechanism of magnetic field effect in cryptochrome,https://arxiv.org/abs/1102.5359\\n488,The Gould-Hopper Polynomials in the Novikov-Veselov equation,https://arxiv.org/abs/1011.1614\\n489,Nonautonomous Food-Limited Fishery Model With Adaptive Harvesting,https://arxiv.org/abs/1006.5431\\n490,Hydrodynamics of undulatory fish schooling in lateral configurations,https://arxiv.org/abs/1003.4441\\n491,On the fish-like swimming of linked bodies with and without skin,https://arxiv.org/abs/0912.4577\\n492,Computer Simulations to Study Sympatric Speciation Processes,https://arxiv.org/abs/q-bio/0504006\\n493,lambda Phi^4 Theory From a Particle-Gas Viewpoint,https://arxiv.org/abs/hep-ph/9711449\\n494,More than just Frequency? Demasking Unsupervised Hypernymy Prediction Methods,https://arxiv.org/abs/2106.00055\\n495,\"Liquid films falling down a vertical fiber: modeling, simulations and experiments\",https://arxiv.org/abs/2104.05761\\n496,Fish Growth Trajectory Tracking via Reinforcement Learning in Precision Aquaculture,https://arxiv.org/abs/2103.07251\\n497,Lower bounds on the Erdős-Gyárfás problem via color energy graphs,https://arxiv.org/abs/2102.11466\\n498,Two-dimensionally stable self-organization arises in simple schooling swimmers through hydrodynamic interactions,https://arxiv.org/abs/2102.03571\\n499,Modes of Information Flow in Collective Cohesion,https://arxiv.org/abs/2012.00293\\n500,Identifying partners at sea on contrasting fisheries around the world,https://arxiv.org/abs/2009.02601\\n501,\"School cohesion, speed, and efficiency are modulated by the swimmers flapping motion\",https://arxiv.org/abs/2009.12715\\n502,Persistent meanders and eddies lead to a quasi-steady Lagrangian transport pattern in a weak western boundary current,https://arxiv.org/abs/2008.07620\\n503,Calculating Pose with Vanishing Points of Visual-Sphere Perspective Model,https://arxiv.org/abs/2004.08933\\n504,UWGAN: Underwater GAN for Real-world Underwater Color Restoration and Dehazing,https://arxiv.org/abs/1912.10269\\n505,Orienting Ordered Scaffolds: Complexity and Algorithms,https://arxiv.org/abs/1911.11190\\n506,Automatic Weight Estimation of Harvested Fish from Images,https://arxiv.org/abs/1909.02710\\n507,Conformational Heterogeneity in Human Interphase Chromosome Organization Reconciles the FISH and Hi-C Paradox,https://arxiv.org/abs/1904.09485\\n508,CNN based dense underwater 3D scene reconstruction by transfer learning using bubble database,https://arxiv.org/abs/1811.09675\\n509,Multi-scale CNN stereo and pattern removal technique for underwater active stereo system,https://arxiv.org/abs/1808.08348\\n510,Quantum Optics in Maxwell\\'s Fish Eye Lens with Single Atoms and Photons,https://arxiv.org/abs/1805.11739\\n511,A mathematical model for gene evolution after whole genome duplication,https://arxiv.org/abs/1702.06255\\n512,A draft genome assembly of southern bluefin tuna Thunnus maccoyii,https://arxiv.org/abs/1607.03955\\n513,Optimal undulating swimming for a single fish-like body and for a pair of interacting swimmers,https://arxiv.org/abs/1604.01065\\n514,Generalized Statistical Tests for mRNA and Protein Subcellular Spatial Patterning against Complete Spatial Randomness,https://arxiv.org/abs/1602.06429\\n515,Identifying differences in the rules of interaction between individuals in moving animal groups,https://arxiv.org/abs/1601.08202\\n516,Dipole interactions in doubly-periodic domains,https://arxiv.org/abs/1304.6795\\n517,The parameters of Menzerath-Altmann law in genomes,https://arxiv.org/abs/1201.1746\\n518,Mechanism of magnetic field effect in cryptochrome,https://arxiv.org/abs/1102.5359\\n519,The Gould-Hopper Polynomials in the Novikov-Veselov equation,https://arxiv.org/abs/1011.1614\\n520,Nonautonomous Food-Limited Fishery Model With Adaptive Harvesting,https://arxiv.org/abs/1006.5431\\n521,Hydrodynamics of undulatory fish schooling in lateral configurations,https://arxiv.org/abs/1003.4441\\n522,On the fish-like swimming of linked bodies with and without skin,https://arxiv.org/abs/0912.4577\\n523,Computer Simulations to Study Sympatric Speciation Processes,https://arxiv.org/abs/q-bio/0504006\\n524,lambda Phi^4 Theory From a Particle-Gas Viewpoint,https://arxiv.org/abs/hep-ph/9711449\\n525,\"Liquid films falling down a vertical fiber: modeling, simulations and experiments\",https://arxiv.org/abs/2104.05761\\n526,Fish Growth Trajectory Tracking via Reinforcement Learning in Precision Aquaculture,https://arxiv.org/abs/2103.07251\\n527,Lower bounds on the Erdős-Gyárfás problem via color energy graphs,https://arxiv.org/abs/2102.11466\\n528,Two-dimensionally stable self-organization arises in simple schooling swimmers through hydrodynamic interactions,https://arxiv.org/abs/2102.03571\\n529,Modes of Information Flow in Collective Cohesion,https://arxiv.org/abs/2012.00293\\n530,Identifying partners at sea on contrasting fisheries around the world,https://arxiv.org/abs/2009.02601\\n531,\"School cohesion, speed, and efficiency are modulated by the swimmers flapping motion\",https://arxiv.org/abs/2009.12715\\n532,Persistent meanders and eddies lead to a quasi-steady Lagrangian transport pattern in a weak western boundary current,https://arxiv.org/abs/2008.07620\\n533,Calculating Pose with Vanishing Points of Visual-Sphere Perspective Model,https://arxiv.org/abs/2004.08933\\n534,UWGAN: Underwater GAN for Real-world Underwater Color Restoration and Dehazing,https://arxiv.org/abs/1912.10269\\n535,Orienting Ordered Scaffolds: Complexity and Algorithms,https://arxiv.org/abs/1911.11190\\n536,Automatic Weight Estimation of Harvested Fish from Images,https://arxiv.org/abs/1909.02710\\n537,Conformational Heterogeneity in Human Interphase Chromosome Organization Reconciles the FISH and Hi-C Paradox,https://arxiv.org/abs/1904.09485\\n538,CNN based dense underwater 3D scene reconstruction by transfer learning using bubble database,https://arxiv.org/abs/1811.09675\\n539,Multi-scale CNN stereo and pattern removal technique for underwater active stereo system,https://arxiv.org/abs/1808.08348\\n540,Quantum Optics in Maxwell\\'s Fish Eye Lens with Single Atoms and Photons,https://arxiv.org/abs/1805.11739\\n541,A mathematical model for gene evolution after whole genome duplication,https://arxiv.org/abs/1702.06255\\n542,A draft genome assembly of southern bluefin tuna Thunnus maccoyii,https://arxiv.org/abs/1607.03955\\n543,Optimal undulating swimming for a single fish-like body and for a pair of interacting swimmers,https://arxiv.org/abs/1604.01065\\n544,Generalized Statistical Tests for mRNA and Protein Subcellular Spatial Patterning against Complete Spatial Randomness,https://arxiv.org/abs/1602.06429\\n545,Identifying differences in the rules of interaction between individuals in moving animal groups,https://arxiv.org/abs/1601.08202\\n546,Dipole interactions in doubly-periodic domains,https://arxiv.org/abs/1304.6795\\n547,The parameters of Menzerath-Altmann law in genomes,https://arxiv.org/abs/1201.1746\\n548,Mechanism of magnetic field effect in cryptochrome,https://arxiv.org/abs/1102.5359\\n549,The Gould-Hopper Polynomials in the Novikov-Veselov equation,https://arxiv.org/abs/1011.1614\\n550,Nonautonomous Food-Limited Fishery Model With Adaptive Harvesting,https://arxiv.org/abs/1006.5431\\n551,Hydrodynamics of undulatory fish schooling in lateral configurations,https://arxiv.org/abs/1003.4441\\n552,On the fish-like swimming of linked bodies with and without skin,https://arxiv.org/abs/0912.4577\\n553,Computer Simulations to Study Sympatric Speciation Processes,https://arxiv.org/abs/q-bio/0504006\\n554,lambda Phi^4 Theory From a Particle-Gas Viewpoint,https://arxiv.org/abs/hep-ph/9711449\\n555,Fish Growth Trajectory Tracking via Reinforcement Learning in Precision Aquaculture,https://arxiv.org/abs/2103.07251\\n556,Lower bounds on the Erdős-Gyárfás problem via color energy graphs,https://arxiv.org/abs/2102.11466\\n557,Two-dimensionally stable self-organization arises in simple schooling swimmers through hydrodynamic interactions,https://arxiv.org/abs/2102.03571\\n558,Modes of Information Flow in Collective Cohesion,https://arxiv.org/abs/2012.00293\\n559,\"School cohesion, speed, and efficiency are modulated by the swimmers flapping motion\",https://arxiv.org/abs/2009.12715\\n560,Identifying partners at sea on contrasting fisheries around the world,https://arxiv.org/abs/2009.02601\\n561,Persistent meanders and eddies lead to a quasi-steady Lagrangian transport pattern in a weak western boundary current,https://arxiv.org/abs/2008.07620\\n562,Calculating Pose with Vanishing Points of Visual-Sphere Perspective Model,https://arxiv.org/abs/2004.08933\\n563,UWGAN: Underwater GAN for Real-world Underwater Color Restoration and Dehazing,https://arxiv.org/abs/1912.10269\\n564,Orienting Ordered Scaffolds: Complexity and Algorithms,https://arxiv.org/abs/1911.11190\\n565,Automatic Weight Estimation of Harvested Fish from Images,https://arxiv.org/abs/1909.02710\\n566,Conformational Heterogeneity in Human Interphase Chromosome Organization Reconciles the FISH and Hi-C Paradox,https://arxiv.org/abs/1904.09485\\n567,CNN based dense underwater 3D scene reconstruction by transfer learning using bubble database,https://arxiv.org/abs/1811.09675\\n568,Multi-scale CNN stereo and pattern removal technique for underwater active stereo system,https://arxiv.org/abs/1808.08348\\n569,Quantum Optics in Maxwell\\'s Fish Eye Lens with Single Atoms and Photons,https://arxiv.org/abs/1805.11739\\n570,A mathematical model for gene evolution after whole genome duplication,https://arxiv.org/abs/1702.06255\\n571,A draft genome assembly of southern bluefin tuna Thunnus maccoyii,https://arxiv.org/abs/1607.03955\\n572,Optimal undulating swimming for a single fish-like body and for a pair of interacting swimmers,https://arxiv.org/abs/1604.01065\\n573,Generalized Statistical Tests for mRNA and Protein Subcellular Spatial Patterning against Complete Spatial Randomness,https://arxiv.org/abs/1602.06429\\n574,Identifying differences in the rules of interaction between individuals in moving animal groups,https://arxiv.org/abs/1601.08202\\n575,Dipole interactions in doubly-periodic domains,https://arxiv.org/abs/1304.6795\\n576,The parameters of Menzerath-Altmann law in genomes,https://arxiv.org/abs/1201.1746\\n577,Mechanism of magnetic field effect in cryptochrome,https://arxiv.org/abs/1102.5359\\n578,The Gould-Hopper Polynomials in the Novikov-Veselov equation,https://arxiv.org/abs/1011.1614\\n579,Nonautonomous Food-Limited Fishery Model With Adaptive Harvesting,https://arxiv.org/abs/1006.5431\\n580,Hydrodynamics of undulatory fish schooling in lateral configurations,https://arxiv.org/abs/1003.4441\\n581,On the fish-like swimming of linked bodies with and without skin,https://arxiv.org/abs/0912.4577\\n582,Computer Simulations to Study Sympatric Speciation Processes,https://arxiv.org/abs/q-bio/0504006\\n583,lambda Phi^4 Theory From a Particle-Gas Viewpoint,https://arxiv.org/abs/hep-ph/9711449\\n584,Lower bounds on the Erdős-Gyárfás problem via color energy graphs,https://arxiv.org/abs/2102.11466\\n585,Two-dimensionally stable self-organization arises in simple schooling swimmers through hydrodynamic interactions,https://arxiv.org/abs/2102.03571\\n586,Modes of Information Flow in Collective Cohesion,https://arxiv.org/abs/2012.00293\\n587,Identifying partners at sea on contrasting fisheries around the world,https://arxiv.org/abs/2009.02601\\n588,\"School cohesion, speed, and efficiency are modulated by the swimmers flapping motion\",https://arxiv.org/abs/2009.12715\\n589,Persistent meanders and eddies lead to a quasi-steady Lagrangian transport pattern in a weak western boundary current,https://arxiv.org/abs/2008.07620\\n590,Calculating Pose with Vanishing Points of Visual-Sphere Perspective Model,https://arxiv.org/abs/2004.08933\\n591,UWGAN: Underwater GAN for Real-world Underwater Color Restoration and Dehazing,https://arxiv.org/abs/1912.10269\\n592,Orienting Ordered Scaffolds: Complexity and Algorithms,https://arxiv.org/abs/1911.11190\\n593,Automatic Weight Estimation of Harvested Fish from Images,https://arxiv.org/abs/1909.02710\\n594,Conformational Heterogeneity in Human Interphase Chromosome Organization Reconciles the FISH and Hi-C Paradox,https://arxiv.org/abs/1904.09485\\n595,CNN based dense underwater 3D scene reconstruction by transfer learning using bubble database,https://arxiv.org/abs/1811.09675\\n596,Multi-scale CNN stereo and pattern removal technique for underwater active stereo system,https://arxiv.org/abs/1808.08348\\n597,Quantum Optics in Maxwell\\'s Fish Eye Lens with Single Atoms and Photons,https://arxiv.org/abs/1805.11739\\n598,A mathematical model for gene evolution after whole genome duplication,https://arxiv.org/abs/1702.06255\\n599,A draft genome assembly of southern bluefin tuna Thunnus maccoyii,https://arxiv.org/abs/1607.03955\\n600,Optimal undulating swimming for a single fish-like body and for a pair of interacting swimmers,https://arxiv.org/abs/1604.01065\\n601,Generalized Statistical Tests for mRNA and Protein Subcellular Spatial Patterning against Complete Spatial Randomness,https://arxiv.org/abs/1602.06429\\n602,Identifying differences in the rules of interaction between individuals in moving animal groups,https://arxiv.org/abs/1601.08202\\n603,Dipole interactions in doubly-periodic domains,https://arxiv.org/abs/1304.6795\\n604,The parameters of Menzerath-Altmann law in genomes,https://arxiv.org/abs/1201.1746\\n605,Mechanism of magnetic field effect in cryptochrome,https://arxiv.org/abs/1102.5359\\n606,The Gould-Hopper Polynomials in the Novikov-Veselov equation,https://arxiv.org/abs/1011.1614\\n607,Nonautonomous Food-Limited Fishery Model With Adaptive Harvesting,https://arxiv.org/abs/1006.5431\\n608,Hydrodynamics of undulatory fish schooling in lateral configurations,https://arxiv.org/abs/1003.4441\\n609,On the fish-like swimming of linked bodies with and without skin,https://arxiv.org/abs/0912.4577\\n610,Computer Simulations to Study Sympatric Speciation Processes,https://arxiv.org/abs/q-bio/0504006\\n611,lambda Phi^4 Theory From a Particle-Gas Viewpoint,https://arxiv.org/abs/hep-ph/9711449\\n612,Two-dimensionally stable self-organization arises in simple schooling swimmers through hydrodynamic interactions,https://arxiv.org/abs/2102.03571\\n613,Modes of Information Flow in Collective Cohesion,https://arxiv.org/abs/2012.00293\\n614,\"School cohesion, speed, and efficiency are modulated by the swimmers flapping motion\",https://arxiv.org/abs/2009.12715\\n615,Identifying partners at sea on contrasting fisheries around the world,https://arxiv.org/abs/2009.02601\\n616,Persistent meanders and eddies lead to a quasi-steady Lagrangian transport pattern in a weak western boundary current,https://arxiv.org/abs/2008.07620\\n617,Calculating Pose with Vanishing Points of Visual-Sphere Perspective Model,https://arxiv.org/abs/2004.08933\\n618,UWGAN: Underwater GAN for Real-world Underwater Color Restoration and Dehazing,https://arxiv.org/abs/1912.10269\\n619,Orienting Ordered Scaffolds: Complexity and Algorithms,https://arxiv.org/abs/1911.11190\\n620,Automatic Weight Estimation of Harvested Fish from Images,https://arxiv.org/abs/1909.02710\\n621,Conformational Heterogeneity in Human Interphase Chromosome Organization Reconciles the FISH and Hi-C Paradox,https://arxiv.org/abs/1904.09485\\n622,CNN based dense underwater 3D scene reconstruction by transfer learning using bubble database,https://arxiv.org/abs/1811.09675\\n623,Multi-scale CNN stereo and pattern removal technique for underwater active stereo system,https://arxiv.org/abs/1808.08348\\n624,Quantum Optics in Maxwell\\'s Fish Eye Lens with Single Atoms and Photons,https://arxiv.org/abs/1805.11739\\n625,A mathematical model for gene evolution after whole genome duplication,https://arxiv.org/abs/1702.06255\\n626,A draft genome assembly of southern bluefin tuna Thunnus maccoyii,https://arxiv.org/abs/1607.03955\\n627,Optimal undulating swimming for a single fish-like body and for a pair of interacting swimmers,https://arxiv.org/abs/1604.01065\\n628,Generalized Statistical Tests for mRNA and Protein Subcellular Spatial Patterning against Complete Spatial Randomness,https://arxiv.org/abs/1602.06429\\n629,Identifying differences in the rules of interaction between individuals in moving animal groups,https://arxiv.org/abs/1601.08202\\n630,Dipole interactions in doubly-periodic domains,https://arxiv.org/abs/1304.6795\\n631,The parameters of Menzerath-Altmann law in genomes,https://arxiv.org/abs/1201.1746\\n632,Mechanism of magnetic field effect in cryptochrome,https://arxiv.org/abs/1102.5359\\n633,The Gould-Hopper Polynomials in the Novikov-Veselov equation,https://arxiv.org/abs/1011.1614\\n634,Nonautonomous Food-Limited Fishery Model With Adaptive Harvesting,https://arxiv.org/abs/1006.5431\\n635,Hydrodynamics of undulatory fish schooling in lateral configurations,https://arxiv.org/abs/1003.4441\\n636,On the fish-like swimming of linked bodies with and without skin,https://arxiv.org/abs/0912.4577\\n637,Computer Simulations to Study Sympatric Speciation Processes,https://arxiv.org/abs/q-bio/0504006\\n638,lambda Phi^4 Theory From a Particle-Gas Viewpoint,https://arxiv.org/abs/hep-ph/9711449\\n639,Modes of Information Flow in Collective Cohesion,https://arxiv.org/abs/2012.00293\\n640,\"School cohesion, speed, and efficiency are modulated by the swimmers flapping motion\",https://arxiv.org/abs/2009.12715\\n641,Identifying partners at sea on contrasting fisheries around the world,https://arxiv.org/abs/2009.02601\\n642,Persistent meanders and eddies lead to a quasi-steady Lagrangian transport pattern in a weak western boundary current,https://arxiv.org/abs/2008.07620\\n643,Calculating Pose with Vanishing Points of Visual-Sphere Perspective Model,https://arxiv.org/abs/2004.08933\\n644,UWGAN: Underwater GAN for Real-world Underwater Color Restoration and Dehazing,https://arxiv.org/abs/1912.10269\\n645,Orienting Ordered Scaffolds: Complexity and Algorithms,https://arxiv.org/abs/1911.11190\\n646,Automatic Weight Estimation of Harvested Fish from Images,https://arxiv.org/abs/1909.02710\\n647,Conformational Heterogeneity in Human Interphase Chromosome Organization Reconciles the FISH and Hi-C Paradox,https://arxiv.org/abs/1904.09485\\n648,CNN based dense underwater 3D scene reconstruction by transfer learning using bubble database,https://arxiv.org/abs/1811.09675\\n649,Multi-scale CNN stereo and pattern removal technique for underwater active stereo system,https://arxiv.org/abs/1808.08348\\n650,Quantum Optics in Maxwell\\'s Fish Eye Lens with Single Atoms and Photons,https://arxiv.org/abs/1805.11739\\n651,A mathematical model for gene evolution after whole genome duplication,https://arxiv.org/abs/1702.06255\\n652,A draft genome assembly of southern bluefin tuna Thunnus maccoyii,https://arxiv.org/abs/1607.03955\\n653,Optimal undulating swimming for a single fish-like body and for a pair of interacting swimmers,https://arxiv.org/abs/1604.01065\\n654,Generalized Statistical Tests for mRNA and Protein Subcellular Spatial Patterning against Complete Spatial Randomness,https://arxiv.org/abs/1602.06429\\n655,Identifying differences in the rules of interaction between individuals in moving animal groups,https://arxiv.org/abs/1601.08202\\n656,Dipole interactions in doubly-periodic domains,https://arxiv.org/abs/1304.6795\\n657,The parameters of Menzerath-Altmann law in genomes,https://arxiv.org/abs/1201.1746\\n658,Mechanism of magnetic field effect in cryptochrome,https://arxiv.org/abs/1102.5359\\n659,The Gould-Hopper Polynomials in the Novikov-Veselov equation,https://arxiv.org/abs/1011.1614\\n660,Nonautonomous Food-Limited Fishery Model With Adaptive Harvesting,https://arxiv.org/abs/1006.5431\\n661,Hydrodynamics of undulatory fish schooling in lateral configurations,https://arxiv.org/abs/1003.4441\\n662,On the fish-like swimming of linked bodies with and without skin,https://arxiv.org/abs/0912.4577\\n663,Computer Simulations to Study Sympatric Speciation Processes,https://arxiv.org/abs/q-bio/0504006\\n664,lambda Phi^4 Theory From a Particle-Gas Viewpoint,https://arxiv.org/abs/hep-ph/9711449\\n665,\"School cohesion, speed, and efficiency are modulated by the swimmers flapping motion\",https://arxiv.org/abs/2009.12715\\n666,Identifying partners at sea on contrasting fisheries around the world,https://arxiv.org/abs/2009.02601\\n667,Persistent meanders and eddies lead to a quasi-steady Lagrangian transport pattern in a weak western boundary current,https://arxiv.org/abs/2008.07620\\n668,Calculating Pose with Vanishing Points of Visual-Sphere Perspective Model,https://arxiv.org/abs/2004.08933\\n669,UWGAN: Underwater GAN for Real-world Underwater Color Restoration and Dehazing,https://arxiv.org/abs/1912.10269\\n670,Orienting Ordered Scaffolds: Complexity and Algorithms,https://arxiv.org/abs/1911.11190\\n671,Automatic Weight Estimation of Harvested Fish from Images,https://arxiv.org/abs/1909.02710\\n672,Conformational Heterogeneity in Human Interphase Chromosome Organization Reconciles the FISH and Hi-C Paradox,https://arxiv.org/abs/1904.09485\\n673,CNN based dense underwater 3D scene reconstruction by transfer learning using bubble database,https://arxiv.org/abs/1811.09675\\n674,Multi-scale CNN stereo and pattern removal technique for underwater active stereo system,https://arxiv.org/abs/1808.08348\\n675,Quantum Optics in Maxwell\\'s Fish Eye Lens with Single Atoms and Photons,https://arxiv.org/abs/1805.11739\\n676,A mathematical model for gene evolution after whole genome duplication,https://arxiv.org/abs/1702.06255\\n677,A draft genome assembly of southern bluefin tuna Thunnus maccoyii,https://arxiv.org/abs/1607.03955\\n678,Optimal undulating swimming for a single fish-like body and for a pair of interacting swimmers,https://arxiv.org/abs/1604.01065\\n679,Generalized Statistical Tests for mRNA and Protein Subcellular Spatial Patterning against Complete Spatial Randomness,https://arxiv.org/abs/1602.06429\\n680,Identifying differences in the rules of interaction between individuals in moving animal groups,https://arxiv.org/abs/1601.08202\\n681,Dipole interactions in doubly-periodic domains,https://arxiv.org/abs/1304.6795\\n682,The parameters of Menzerath-Altmann law in genomes,https://arxiv.org/abs/1201.1746\\n683,Mechanism of magnetic field effect in cryptochrome,https://arxiv.org/abs/1102.5359\\n684,The Gould-Hopper Polynomials in the Novikov-Veselov equation,https://arxiv.org/abs/1011.1614\\n685,Nonautonomous Food-Limited Fishery Model With Adaptive Harvesting,https://arxiv.org/abs/1006.5431\\n686,Hydrodynamics of undulatory fish schooling in lateral configurations,https://arxiv.org/abs/1003.4441\\n687,On the fish-like swimming of linked bodies with and without skin,https://arxiv.org/abs/0912.4577\\n688,Computer Simulations to Study Sympatric Speciation Processes,https://arxiv.org/abs/q-bio/0504006\\n689,lambda Phi^4 Theory From a Particle-Gas Viewpoint,https://arxiv.org/abs/hep-ph/9711449\\n'"
            ],
            "application/vnd.google.colaboratory.intrinsic+json": {
              "type": "string"
            }
          },
          "metadata": {},
          "execution_count": 14
        }
      ]
    },
    {
      "cell_type": "code",
      "source": [
        "#specify path for export\n",
        "path = '/content/resp/new_data.txt'\n",
        "\n",
        "#export DataFrame to text file\n",
        "with open(path, 'a') as f:\n",
        "    df_string = arxiv_result.to_string(header=False, index=False)\n",
        "    f.write(df_string)"
      ],
      "metadata": {
        "id": "MY3rP56DZBGy"
      },
      "execution_count": 15,
      "outputs": []
    },
    {
      "cell_type": "code",
      "source": [
        "ac           = ACM()\n",
        "acm_result   = ac.acm('Zero-shot learning', max_pages = 1)\n",
        "acm_result.head(5)"
      ],
      "metadata": {
        "colab": {
          "base_uri": "https://localhost:8080/",
          "height": 232
        },
        "id": "SzKIO8MuO0Bm",
        "outputId": "3c5d3deb-3651-4fae-ad37-277c17d8ff7a"
      },
      "execution_count": null,
      "outputs": [
        {
          "output_type": "stream",
          "name": "stderr",
          "text": [
            "100%|██████████| 1/1 [00:19<00:00, 19.32s/it]\n"
          ]
        },
        {
          "output_type": "execute_result",
          "data": {
            "text/plain": [
              "                                               title  \\\n",
              "0                          Active Zero-Shot Learning   \n",
              "1  A Survey of Zero-Shot Learning: Settings, Meth...   \n",
              "2      OntoZSL: Ontology-enhanced Zero-shot Learning   \n",
              "3         Zero-Shot Learning for Gesture Recognition   \n",
              "4  Residual Graph Convolutional Networks for Zero...   \n",
              "\n",
              "                                                link  \n",
              "0  https://dl.acm.org/doi/pdf/10.1145/2983323.298...  \n",
              "1         https://dl.acm.org/doi/pdf/10.1145/3293318  \n",
              "2  https://dl.acm.org/doi/pdf/10.1145/3442381.345...  \n",
              "3  https://dl.acm.org/doi/pdf/10.1145/3382507.342...  \n",
              "4  https://dl.acm.org/doi/pdf/10.1145/3338533.336...  "
            ],
            "text/html": [
              "\n",
              "  <div id=\"df-a2ea9658-f692-4cb1-b01a-85ec968b9368\">\n",
              "    <div class=\"colab-df-container\">\n",
              "      <div>\n",
              "<style scoped>\n",
              "    .dataframe tbody tr th:only-of-type {\n",
              "        vertical-align: middle;\n",
              "    }\n",
              "\n",
              "    .dataframe tbody tr th {\n",
              "        vertical-align: top;\n",
              "    }\n",
              "\n",
              "    .dataframe thead th {\n",
              "        text-align: right;\n",
              "    }\n",
              "</style>\n",
              "<table border=\"1\" class=\"dataframe\">\n",
              "  <thead>\n",
              "    <tr style=\"text-align: right;\">\n",
              "      <th></th>\n",
              "      <th>title</th>\n",
              "      <th>link</th>\n",
              "    </tr>\n",
              "  </thead>\n",
              "  <tbody>\n",
              "    <tr>\n",
              "      <th>0</th>\n",
              "      <td>Active Zero-Shot Learning</td>\n",
              "      <td>https://dl.acm.org/doi/pdf/10.1145/2983323.298...</td>\n",
              "    </tr>\n",
              "    <tr>\n",
              "      <th>1</th>\n",
              "      <td>A Survey of Zero-Shot Learning: Settings, Meth...</td>\n",
              "      <td>https://dl.acm.org/doi/pdf/10.1145/3293318</td>\n",
              "    </tr>\n",
              "    <tr>\n",
              "      <th>2</th>\n",
              "      <td>OntoZSL: Ontology-enhanced Zero-shot Learning</td>\n",
              "      <td>https://dl.acm.org/doi/pdf/10.1145/3442381.345...</td>\n",
              "    </tr>\n",
              "    <tr>\n",
              "      <th>3</th>\n",
              "      <td>Zero-Shot Learning for Gesture Recognition</td>\n",
              "      <td>https://dl.acm.org/doi/pdf/10.1145/3382507.342...</td>\n",
              "    </tr>\n",
              "    <tr>\n",
              "      <th>4</th>\n",
              "      <td>Residual Graph Convolutional Networks for Zero...</td>\n",
              "      <td>https://dl.acm.org/doi/pdf/10.1145/3338533.336...</td>\n",
              "    </tr>\n",
              "  </tbody>\n",
              "</table>\n",
              "</div>\n",
              "      <button class=\"colab-df-convert\" onclick=\"convertToInteractive('df-a2ea9658-f692-4cb1-b01a-85ec968b9368')\"\n",
              "              title=\"Convert this dataframe to an interactive table.\"\n",
              "              style=\"display:none;\">\n",
              "        \n",
              "  <svg xmlns=\"http://www.w3.org/2000/svg\" height=\"24px\"viewBox=\"0 0 24 24\"\n",
              "       width=\"24px\">\n",
              "    <path d=\"M0 0h24v24H0V0z\" fill=\"none\"/>\n",
              "    <path d=\"M18.56 5.44l.94 2.06.94-2.06 2.06-.94-2.06-.94-.94-2.06-.94 2.06-2.06.94zm-11 1L8.5 8.5l.94-2.06 2.06-.94-2.06-.94L8.5 2.5l-.94 2.06-2.06.94zm10 10l.94 2.06.94-2.06 2.06-.94-2.06-.94-.94-2.06-.94 2.06-2.06.94z\"/><path d=\"M17.41 7.96l-1.37-1.37c-.4-.4-.92-.59-1.43-.59-.52 0-1.04.2-1.43.59L10.3 9.45l-7.72 7.72c-.78.78-.78 2.05 0 2.83L4 21.41c.39.39.9.59 1.41.59.51 0 1.02-.2 1.41-.59l7.78-7.78 2.81-2.81c.8-.78.8-2.07 0-2.86zM5.41 20L4 18.59l7.72-7.72 1.47 1.35L5.41 20z\"/>\n",
              "  </svg>\n",
              "      </button>\n",
              "      \n",
              "  <style>\n",
              "    .colab-df-container {\n",
              "      display:flex;\n",
              "      flex-wrap:wrap;\n",
              "      gap: 12px;\n",
              "    }\n",
              "\n",
              "    .colab-df-convert {\n",
              "      background-color: #E8F0FE;\n",
              "      border: none;\n",
              "      border-radius: 50%;\n",
              "      cursor: pointer;\n",
              "      display: none;\n",
              "      fill: #1967D2;\n",
              "      height: 32px;\n",
              "      padding: 0 0 0 0;\n",
              "      width: 32px;\n",
              "    }\n",
              "\n",
              "    .colab-df-convert:hover {\n",
              "      background-color: #E2EBFA;\n",
              "      box-shadow: 0px 1px 2px rgba(60, 64, 67, 0.3), 0px 1px 3px 1px rgba(60, 64, 67, 0.15);\n",
              "      fill: #174EA6;\n",
              "    }\n",
              "\n",
              "    [theme=dark] .colab-df-convert {\n",
              "      background-color: #3B4455;\n",
              "      fill: #D2E3FC;\n",
              "    }\n",
              "\n",
              "    [theme=dark] .colab-df-convert:hover {\n",
              "      background-color: #434B5C;\n",
              "      box-shadow: 0px 1px 3px 1px rgba(0, 0, 0, 0.15);\n",
              "      filter: drop-shadow(0px 1px 2px rgba(0, 0, 0, 0.3));\n",
              "      fill: #FFFFFF;\n",
              "    }\n",
              "  </style>\n",
              "\n",
              "      <script>\n",
              "        const buttonEl =\n",
              "          document.querySelector('#df-a2ea9658-f692-4cb1-b01a-85ec968b9368 button.colab-df-convert');\n",
              "        buttonEl.style.display =\n",
              "          google.colab.kernel.accessAllowed ? 'block' : 'none';\n",
              "\n",
              "        async function convertToInteractive(key) {\n",
              "          const element = document.querySelector('#df-a2ea9658-f692-4cb1-b01a-85ec968b9368');\n",
              "          const dataTable =\n",
              "            await google.colab.kernel.invokeFunction('convertToInteractive',\n",
              "                                                     [key], {});\n",
              "          if (!dataTable) return;\n",
              "\n",
              "          const docLinkHtml = 'Like what you see? Visit the ' +\n",
              "            '<a target=\"_blank\" href=https://colab.research.google.com/notebooks/data_table.ipynb>data table notebook</a>'\n",
              "            + ' to learn more about interactive tables.';\n",
              "          element.innerHTML = '';\n",
              "          dataTable['output_type'] = 'display_data';\n",
              "          await google.colab.output.renderOutput(dataTable, element);\n",
              "          const docLink = document.createElement('div');\n",
              "          docLink.innerHTML = docLinkHtml;\n",
              "          element.appendChild(docLink);\n",
              "        }\n",
              "      </script>\n",
              "    </div>\n",
              "  </div>\n",
              "  "
            ]
          },
          "metadata": {},
          "execution_count": 7
        }
      ]
    },
    {
      "cell_type": "code",
      "source": [
        "sc           = Semantic_Scholar()\n",
        "sc_result    = sc.ss('Zero-shot learning', max_pages = 1)\n",
        "sc_result.head(5)"
      ],
      "metadata": {
        "colab": {
          "base_uri": "https://localhost:8080/",
          "height": 232
        },
        "id": "MKoEZ-suO82D",
        "outputId": "1fb740b6-2d49-4d7b-e5ce-d8d656637b6c"
      },
      "execution_count": null,
      "outputs": [
        {
          "output_type": "stream",
          "name": "stderr",
          "text": [
            "100%|██████████| 1/1 [00:06<00:00,  6.53s/it]\n"
          ]
        },
        {
          "output_type": "execute_result",
          "data": {
            "text/plain": [
              "                                               title  \\\n",
              "0  Zero-Shot Learning—A Comprehensive Evaluation ...   \n",
              "1  Feature Generating Networks for Zero-Shot Lear...   \n",
              "2  An embarrassingly simple approach to zero-shot...   \n",
              "3        Semantic Autoencoder for Zero-Shot Learning   \n",
              "4  Zero-Shot Learning — The Good, the Bad and the...   \n",
              "\n",
              "                                                link  \n",
              "0  http://ieeexplore.ieee.org/stamp/stamp.jsp?tp=...  \n",
              "1  http://ieeexplore.ieee.org/stamp/stamp.jsp?tp=...  \n",
              "2        https://doi.org/10.1007/978-3-319-50077-5_2  \n",
              "3  http://ieeexplore.ieee.org/stamp/stamp.jsp?tp=...  \n",
              "4  http://ieeexplore.ieee.org/stamp/stamp.jsp?tp=...  "
            ],
            "text/html": [
              "\n",
              "  <div id=\"df-9b556583-835c-43bd-978f-91afa7bd6d5b\">\n",
              "    <div class=\"colab-df-container\">\n",
              "      <div>\n",
              "<style scoped>\n",
              "    .dataframe tbody tr th:only-of-type {\n",
              "        vertical-align: middle;\n",
              "    }\n",
              "\n",
              "    .dataframe tbody tr th {\n",
              "        vertical-align: top;\n",
              "    }\n",
              "\n",
              "    .dataframe thead th {\n",
              "        text-align: right;\n",
              "    }\n",
              "</style>\n",
              "<table border=\"1\" class=\"dataframe\">\n",
              "  <thead>\n",
              "    <tr style=\"text-align: right;\">\n",
              "      <th></th>\n",
              "      <th>title</th>\n",
              "      <th>link</th>\n",
              "    </tr>\n",
              "  </thead>\n",
              "  <tbody>\n",
              "    <tr>\n",
              "      <th>0</th>\n",
              "      <td>Zero-Shot Learning—A Comprehensive Evaluation ...</td>\n",
              "      <td>http://ieeexplore.ieee.org/stamp/stamp.jsp?tp=...</td>\n",
              "    </tr>\n",
              "    <tr>\n",
              "      <th>1</th>\n",
              "      <td>Feature Generating Networks for Zero-Shot Lear...</td>\n",
              "      <td>http://ieeexplore.ieee.org/stamp/stamp.jsp?tp=...</td>\n",
              "    </tr>\n",
              "    <tr>\n",
              "      <th>2</th>\n",
              "      <td>An embarrassingly simple approach to zero-shot...</td>\n",
              "      <td>https://doi.org/10.1007/978-3-319-50077-5_2</td>\n",
              "    </tr>\n",
              "    <tr>\n",
              "      <th>3</th>\n",
              "      <td>Semantic Autoencoder for Zero-Shot Learning</td>\n",
              "      <td>http://ieeexplore.ieee.org/stamp/stamp.jsp?tp=...</td>\n",
              "    </tr>\n",
              "    <tr>\n",
              "      <th>4</th>\n",
              "      <td>Zero-Shot Learning — The Good, the Bad and the...</td>\n",
              "      <td>http://ieeexplore.ieee.org/stamp/stamp.jsp?tp=...</td>\n",
              "    </tr>\n",
              "  </tbody>\n",
              "</table>\n",
              "</div>\n",
              "      <button class=\"colab-df-convert\" onclick=\"convertToInteractive('df-9b556583-835c-43bd-978f-91afa7bd6d5b')\"\n",
              "              title=\"Convert this dataframe to an interactive table.\"\n",
              "              style=\"display:none;\">\n",
              "        \n",
              "  <svg xmlns=\"http://www.w3.org/2000/svg\" height=\"24px\"viewBox=\"0 0 24 24\"\n",
              "       width=\"24px\">\n",
              "    <path d=\"M0 0h24v24H0V0z\" fill=\"none\"/>\n",
              "    <path d=\"M18.56 5.44l.94 2.06.94-2.06 2.06-.94-2.06-.94-.94-2.06-.94 2.06-2.06.94zm-11 1L8.5 8.5l.94-2.06 2.06-.94-2.06-.94L8.5 2.5l-.94 2.06-2.06.94zm10 10l.94 2.06.94-2.06 2.06-.94-2.06-.94-.94-2.06-.94 2.06-2.06.94z\"/><path d=\"M17.41 7.96l-1.37-1.37c-.4-.4-.92-.59-1.43-.59-.52 0-1.04.2-1.43.59L10.3 9.45l-7.72 7.72c-.78.78-.78 2.05 0 2.83L4 21.41c.39.39.9.59 1.41.59.51 0 1.02-.2 1.41-.59l7.78-7.78 2.81-2.81c.8-.78.8-2.07 0-2.86zM5.41 20L4 18.59l7.72-7.72 1.47 1.35L5.41 20z\"/>\n",
              "  </svg>\n",
              "      </button>\n",
              "      \n",
              "  <style>\n",
              "    .colab-df-container {\n",
              "      display:flex;\n",
              "      flex-wrap:wrap;\n",
              "      gap: 12px;\n",
              "    }\n",
              "\n",
              "    .colab-df-convert {\n",
              "      background-color: #E8F0FE;\n",
              "      border: none;\n",
              "      border-radius: 50%;\n",
              "      cursor: pointer;\n",
              "      display: none;\n",
              "      fill: #1967D2;\n",
              "      height: 32px;\n",
              "      padding: 0 0 0 0;\n",
              "      width: 32px;\n",
              "    }\n",
              "\n",
              "    .colab-df-convert:hover {\n",
              "      background-color: #E2EBFA;\n",
              "      box-shadow: 0px 1px 2px rgba(60, 64, 67, 0.3), 0px 1px 3px 1px rgba(60, 64, 67, 0.15);\n",
              "      fill: #174EA6;\n",
              "    }\n",
              "\n",
              "    [theme=dark] .colab-df-convert {\n",
              "      background-color: #3B4455;\n",
              "      fill: #D2E3FC;\n",
              "    }\n",
              "\n",
              "    [theme=dark] .colab-df-convert:hover {\n",
              "      background-color: #434B5C;\n",
              "      box-shadow: 0px 1px 3px 1px rgba(0, 0, 0, 0.15);\n",
              "      filter: drop-shadow(0px 1px 2px rgba(0, 0, 0, 0.3));\n",
              "      fill: #FFFFFF;\n",
              "    }\n",
              "  </style>\n",
              "\n",
              "      <script>\n",
              "        const buttonEl =\n",
              "          document.querySelector('#df-9b556583-835c-43bd-978f-91afa7bd6d5b button.colab-df-convert');\n",
              "        buttonEl.style.display =\n",
              "          google.colab.kernel.accessAllowed ? 'block' : 'none';\n",
              "\n",
              "        async function convertToInteractive(key) {\n",
              "          const element = document.querySelector('#df-9b556583-835c-43bd-978f-91afa7bd6d5b');\n",
              "          const dataTable =\n",
              "            await google.colab.kernel.invokeFunction('convertToInteractive',\n",
              "                                                     [key], {});\n",
              "          if (!dataTable) return;\n",
              "\n",
              "          const docLinkHtml = 'Like what you see? Visit the ' +\n",
              "            '<a target=\"_blank\" href=https://colab.research.google.com/notebooks/data_table.ipynb>data table notebook</a>'\n",
              "            + ' to learn more about interactive tables.';\n",
              "          element.innerHTML = '';\n",
              "          dataTable['output_type'] = 'display_data';\n",
              "          await google.colab.output.renderOutput(dataTable, element);\n",
              "          const docLink = document.createElement('div');\n",
              "          docLink.innerHTML = docLinkHtml;\n",
              "          element.appendChild(docLink);\n",
              "        }\n",
              "      </script>\n",
              "    </div>\n",
              "  </div>\n",
              "  "
            ]
          },
          "metadata": {},
          "execution_count": 8
        }
      ]
    },
    {
      "cell_type": "code",
      "source": [
        "# for full examples and api uses check https://github.com/monk1337/resp/blob/main/examples/Api_examples.ipynb"
      ],
      "metadata": {
        "id": "7YMCBNC5PC1e"
      },
      "execution_count": null,
      "outputs": []
    },
    {
      "cell_type": "code",
      "source": [],
      "metadata": {
        "id": "QXX3_loFPRwz"
      },
      "execution_count": null,
      "outputs": []
    }
  ]
}